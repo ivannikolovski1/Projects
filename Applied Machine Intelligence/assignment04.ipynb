{
 "cells": [
  {
   "cell_type": "markdown",
   "id": "2fe6cb30-f39b-4124-a06c-5b0b91e88bf9",
   "metadata": {
    "deletable": false,
    "editable": false,
    "nbgrader": {
     "cell_type": "markdown",
     "checksum": "555af5d4baa0f255cd6dc9a5dace419a",
     "grade": false,
     "grade_id": "cell-669c1c2535878f95",
     "locked": true,
     "schema_version": 3,
     "solution": false,
     "task": false
    },
    "tags": []
   },
   "source": [
    "# Fourth assignment\n",
    "The assignment provides problems regarding basic applications of linear algebra and machine learning. Use this notebook to perform the computations and insert your comments into it. All the coding must be done in Python 3. \n",
    "\n",
    "The assignment has to be submitted individually!\n",
    "\n",
    "All your plots have to be labelled properly!  (Non-labeled plots will result in point deductions!)\n",
    "\n",
    "**Non running cells/tasks will not be considered!**\n",
    "\n",
    "The tasks/questions are 1.1)\\*, 1.2), 1.3), 2.1), 2.2), 2.3), 2.4), 3.1), 3.2), 3.3), 3.4)\\*, 3.5)\\*, 3.6)\\*, 4.1), 4.2), 4.3), 4.4), 4.5), 5.1), 5.2), 5.3), 6.1)\\*, 6.2)\\* and 6.3)\\*. After each task description there is an answer cell for your code or text. For coding tasks they look like this:\n",
    "\n",
    "```\n",
    "# YOUR CODE HERE\n",
    "```\n",
    "(You can delete the \"YOUR CODE HERE\" comment, if you like.)\n",
    "\n",
    "For markdown (text) cells the response cell will include this:\n",
    "\n",
    "**WRITE YOUR ANSWER HERE**\n",
    "\n",
    "Sometimes they are followed by test cells. You can run the test cells after you finished the task. If these cells don't show any errors, your answer is right. You can't/shouldn't edit test cells!\n",
    "\n",
    "After you finished the notebook you can hit the \"Validate\" button on the top of the notebook to see if all test are good. You can also use the \"Validate\" button on the \"Assignment\" tap on the main page of python.ldv.ei.tum.de. Some tasks will be graded manually (e.g. plots, text answers). They don't have a following test cell. \n",
    "\n",
    "Please make sure to hit the \"Submit\" button on the \"Assignment\" tab on the main page of python.ldv.ei.tum.de before the deadline passes. You will get your final score after the deadline.\n",
    "\n",
    "**Some tips:**\n",
    "- Only change cells with `# YOUR CODE HERE` or **WRITE YOUR ANSWER HERE**\n",
    "- Do not change cell types or the notebook name.\n",
    "- Do not add other .ipynb files into the ami23 folder or subfolders.\n",
    "- Do not override the original files in the ami23 folder or subfolders.\n",
    "- For every plot makes sure that axes are correctly labeled with original labels and not encoded ones. \n",
    "- If you are asked to provide multiple plots, make sure that the titles are clear. A plot should be self explanatory, we should not have to look at your code to know what is plotted. \n",
    "\n",
    "#### Date of submission: June 06th, 2023, 23:55 hrs"
   ]
  },
  {
   "cell_type": "code",
   "execution_count": 2,
   "id": "9f9e6e89-ea70-4bb5-8a31-7fe833eb356b",
   "metadata": {
    "deletable": false,
    "editable": false,
    "nbgrader": {
     "cell_type": "code",
     "checksum": "720a44b950d0bab873bf595fc23b8990",
     "grade": false,
     "grade_id": "cell-90ed7038988f1c81",
     "locked": true,
     "schema_version": 3,
     "solution": false,
     "task": false
    },
    "tags": []
   },
   "outputs": [],
   "source": [
    "import matplotlib.pyplot as plt\n",
    "import numpy as np\n",
    "import pandas as pd\n",
    "from scipy.stats import halfnorm, lognorm\n",
    "import seaborn as sns\n",
    "from sklearn.compose import ColumnTransformer\n",
    "from sklearn.dummy import DummyClassifier\n",
    "from sklearn.impute import SimpleImputer\n",
    "from sklearn.metrics import confusion_matrix, accuracy_score, balanced_accuracy_score\n",
    "from sklearn.model_selection import train_test_split, StratifiedKFold, GridSearchCV\n",
    "from sklearn.pipeline import Pipeline\n",
    "from sklearn.preprocessing import MinMaxScaler, OneHotEncoder\n",
    "from sklearn.svm import SVC\n",
    "from sklearn.base import clone\n",
    "from imblearn.over_sampling import RandomOverSampler"
   ]
  },
  {
   "cell_type": "markdown",
   "id": "6d9d874f-06e8-4803-95e0-6413463e013e",
   "metadata": {
    "deletable": false,
    "editable": false,
    "nbgrader": {
     "cell_type": "markdown",
     "checksum": "857a27a460f6149757ec01bff52f77a4",
     "grade": false,
     "grade_id": "cell-2da1e1afaadc951d",
     "locked": true,
     "schema_version": 3,
     "solution": false,
     "task": false
    }
   },
   "source": [
    "You will examine a dataset about superheroes. First the data will be loaded."
   ]
  },
  {
   "cell_type": "code",
   "execution_count": 3,
   "id": "6065d8f5-783c-483f-b63b-f029670e7a91",
   "metadata": {
    "deletable": false,
    "editable": false,
    "nbgrader": {
     "cell_type": "code",
     "checksum": "260ae4159f4c67b547e5b3e3967d76f2",
     "grade": false,
     "grade_id": "cell-6b04a35ccf93352f",
     "locked": true,
     "schema_version": 3,
     "solution": false,
     "task": false
    },
    "tags": []
   },
   "outputs": [
    {
     "data": {
      "text/html": [
       "<div>\n",
       "<style scoped>\n",
       "    .dataframe tbody tr th:only-of-type {\n",
       "        vertical-align: middle;\n",
       "    }\n",
       "\n",
       "    .dataframe tbody tr th {\n",
       "        vertical-align: top;\n",
       "    }\n",
       "\n",
       "    .dataframe thead th {\n",
       "        text-align: right;\n",
       "    }\n",
       "</style>\n",
       "<table border=\"1\" class=\"dataframe\">\n",
       "  <thead>\n",
       "    <tr style=\"text-align: right;\">\n",
       "      <th></th>\n",
       "      <th>Intelligence</th>\n",
       "      <th>Strength</th>\n",
       "      <th>Speed</th>\n",
       "      <th>Durability</th>\n",
       "      <th>Power</th>\n",
       "      <th>Combat</th>\n",
       "      <th>Alter Egos</th>\n",
       "      <th>Publisher</th>\n",
       "      <th>Alignment</th>\n",
       "      <th>Gender</th>\n",
       "      <th>Race</th>\n",
       "      <th>Height</th>\n",
       "      <th>Weight</th>\n",
       "      <th>Eye color</th>\n",
       "      <th>Hair color</th>\n",
       "      <th>Total Power</th>\n",
       "    </tr>\n",
       "  </thead>\n",
       "  <tbody>\n",
       "    <tr>\n",
       "      <th>0</th>\n",
       "      <td>80</td>\n",
       "      <td>35</td>\n",
       "      <td>45</td>\n",
       "      <td>35</td>\n",
       "      <td>25</td>\n",
       "      <td>55</td>\n",
       "      <td>No</td>\n",
       "      <td>Marvel Comics</td>\n",
       "      <td>good</td>\n",
       "      <td>Male</td>\n",
       "      <td>NaN</td>\n",
       "      <td>188</td>\n",
       "      <td>90</td>\n",
       "      <td>Brown</td>\n",
       "      <td>Grey</td>\n",
       "      <td>275</td>\n",
       "    </tr>\n",
       "    <tr>\n",
       "      <th>1</th>\n",
       "      <td>75</td>\n",
       "      <td>100</td>\n",
       "      <td>20</td>\n",
       "      <td>80</td>\n",
       "      <td>25</td>\n",
       "      <td>65</td>\n",
       "      <td>No</td>\n",
       "      <td>Marvel Comics</td>\n",
       "      <td>good</td>\n",
       "      <td>Male</td>\n",
       "      <td>Human</td>\n",
       "      <td>203</td>\n",
       "      <td>441</td>\n",
       "      <td>Yellow</td>\n",
       "      <td>No Hair</td>\n",
       "      <td>365</td>\n",
       "    </tr>\n",
       "    <tr>\n",
       "      <th>2</th>\n",
       "      <td>95</td>\n",
       "      <td>30</td>\n",
       "      <td>35</td>\n",
       "      <td>65</td>\n",
       "      <td>100</td>\n",
       "      <td>85</td>\n",
       "      <td>No</td>\n",
       "      <td>Dark Horse Comics</td>\n",
       "      <td>good</td>\n",
       "      <td>Male</td>\n",
       "      <td>Icthyo Sapien</td>\n",
       "      <td>191</td>\n",
       "      <td>65</td>\n",
       "      <td>Blue</td>\n",
       "      <td>No Hair</td>\n",
       "      <td>410</td>\n",
       "    </tr>\n",
       "    <tr>\n",
       "      <th>3</th>\n",
       "      <td>80</td>\n",
       "      <td>90</td>\n",
       "      <td>55</td>\n",
       "      <td>65</td>\n",
       "      <td>100</td>\n",
       "      <td>65</td>\n",
       "      <td>No</td>\n",
       "      <td>DC Comics</td>\n",
       "      <td>good</td>\n",
       "      <td>Male</td>\n",
       "      <td>Ungaran</td>\n",
       "      <td>185</td>\n",
       "      <td>90</td>\n",
       "      <td>Blue</td>\n",
       "      <td>No Hair</td>\n",
       "      <td>455</td>\n",
       "    </tr>\n",
       "    <tr>\n",
       "      <th>4</th>\n",
       "      <td>85</td>\n",
       "      <td>80</td>\n",
       "      <td>55</td>\n",
       "      <td>90</td>\n",
       "      <td>65</td>\n",
       "      <td>95</td>\n",
       "      <td>Yes</td>\n",
       "      <td>Marvel Comics</td>\n",
       "      <td>bad</td>\n",
       "      <td>Male</td>\n",
       "      <td>Human / Radiation</td>\n",
       "      <td>203</td>\n",
       "      <td>441</td>\n",
       "      <td>Green</td>\n",
       "      <td>No Hair</td>\n",
       "      <td>470</td>\n",
       "    </tr>\n",
       "  </tbody>\n",
       "</table>\n",
       "</div>"
      ],
      "text/plain": [
       "   Intelligence  Strength  Speed  Durability  Power  Combat Alter Egos   \n",
       "0            80        35     45          35     25      55         No  \\\n",
       "1            75       100     20          80     25      65         No   \n",
       "2            95        30     35          65    100      85         No   \n",
       "3            80        90     55          65    100      65         No   \n",
       "4            85        80     55          90     65      95        Yes   \n",
       "\n",
       "           Publisher Alignment Gender               Race  Height  Weight   \n",
       "0      Marvel Comics      good   Male                NaN     188      90  \\\n",
       "1      Marvel Comics      good   Male              Human     203     441   \n",
       "2  Dark Horse Comics      good   Male      Icthyo Sapien     191      65   \n",
       "3          DC Comics      good   Male            Ungaran     185      90   \n",
       "4      Marvel Comics       bad   Male  Human / Radiation     203     441   \n",
       "\n",
       "  Eye color Hair color  Total Power  \n",
       "0     Brown       Grey          275  \n",
       "1    Yellow    No Hair          365  \n",
       "2      Blue    No Hair          410  \n",
       "3      Blue    No Hair          455  \n",
       "4     Green    No Hair          470  "
      ]
     },
     "execution_count": 3,
     "metadata": {},
     "output_type": "execute_result"
    }
   ],
   "source": [
    "data = pd.read_csv('ass04_data.csv')\n",
    "data['Height'] = pd.to_numeric(data.Height.str.split('//').str[1].str.split(' ').str[1])\n",
    "data['Weight'] = pd.to_numeric(data.Weight.str.split('//').str[1].str.split(' ').str[1])\n",
    "data.drop(columns=['Name', 'Skin color'], inplace=True)\n",
    "data.head()"
   ]
  },
  {
   "cell_type": "markdown",
   "id": "345a44fa-6f50-4463-aabf-97d4d7dc091a",
   "metadata": {
    "deletable": false,
    "editable": false,
    "nbgrader": {
     "cell_type": "markdown",
     "checksum": "5c32211b67093ff7a1a2558a0de5ac40",
     "grade": false,
     "grade_id": "cell-1a5d7c6ce4c3dc32",
     "locked": true,
     "schema_version": 3,
     "solution": false,
     "task": false
    }
   },
   "source": [
    "## Task 1 - Pre-Processing"
   ]
  },
  {
   "cell_type": "markdown",
   "id": "e9bee062-e4ed-4a73-a068-80fd2a7885c1",
   "metadata": {
    "deletable": false,
    "editable": false,
    "nbgrader": {
     "cell_type": "markdown",
     "checksum": "8b7ca40e321fa3753c55960c945ba35d",
     "grade": false,
     "grade_id": "cell-a2fd0f58fe68cf29",
     "locked": true,
     "schema_version": 3,
     "solution": false,
     "task": false
    },
    "tags": []
   },
   "source": [
    "### Task 1.1* (Bonus)\n",
    "When inspecting the dataset you will notice that there are a few categorical predictors where you have a lot of values that only appear a few times (e.g. there is only one hero that has \"Rodian\" as race). As they contain not that much information and will lead to a lot of predictors when we apply one-hot-encoding, we will merge these groups into one and simply assign them the value \"other\".\n",
    "\n",
    "For the 4 predictors `Hair color`, `Eye color`, `Race` and `Publisher` have a look at how often the respective values appear and replace all values that occur less or equal frequent as the predictor's median with the new value `other` (For the median do not include the NaN entries). Keep all NaN values. Store the new DataFrame with all predictors in the variable `data_simple`. Name the new predictors `Hair color_simple`, `Eye color_simple`, `Race_simple` and `Publisher_simple` and drop the old ones.\n",
    "\n",
    "Example:\n",
    "\n",
    "A feature \"color\" has the following counts:\n",
    "- green: 10\n",
    "- blue: 8\n",
    "- red: 4\n",
    "- yellow: 1\n",
    "- purple: 1\n",
    "\n",
    "The median would be 4.\n",
    "\n",
    "The new feature \"color_simple\" has then the following counts:\n",
    "- green: 10\n",
    "- blue: 8\n",
    "- other: 6"
   ]
  },
  {
   "cell_type": "code",
   "execution_count": 48,
   "id": "3bf0a2fc-7c55-49eb-b12a-b22d7e3e4289",
   "metadata": {
    "deletable": false,
    "nbgrader": {
     "cell_type": "code",
     "checksum": "269544c12ab6811e5fea414cbf2126b6",
     "grade": false,
     "grade_id": "cell-579e8ada573ca415",
     "locked": false,
     "schema_version": 3,
     "solution": true,
     "task": false
    },
    "tags": []
   },
   "outputs": [
    {
     "data": {
      "text/html": [
       "<div>\n",
       "<style scoped>\n",
       "    .dataframe tbody tr th:only-of-type {\n",
       "        vertical-align: middle;\n",
       "    }\n",
       "\n",
       "    .dataframe tbody tr th {\n",
       "        vertical-align: top;\n",
       "    }\n",
       "\n",
       "    .dataframe thead th {\n",
       "        text-align: right;\n",
       "    }\n",
       "</style>\n",
       "<table border=\"1\" class=\"dataframe\">\n",
       "  <thead>\n",
       "    <tr style=\"text-align: right;\">\n",
       "      <th></th>\n",
       "      <th>Intelligence</th>\n",
       "      <th>Strength</th>\n",
       "      <th>Speed</th>\n",
       "      <th>Durability</th>\n",
       "      <th>Power</th>\n",
       "      <th>Combat</th>\n",
       "      <th>Alter Egos</th>\n",
       "      <th>Alignment</th>\n",
       "      <th>Gender</th>\n",
       "      <th>Height</th>\n",
       "      <th>Weight</th>\n",
       "      <th>Total Power</th>\n",
       "      <th>Hair color_simple</th>\n",
       "      <th>Eye color_simple</th>\n",
       "      <th>Race_simple</th>\n",
       "      <th>Publisher_simple</th>\n",
       "    </tr>\n",
       "  </thead>\n",
       "  <tbody>\n",
       "    <tr>\n",
       "      <th>0</th>\n",
       "      <td>80</td>\n",
       "      <td>35</td>\n",
       "      <td>44</td>\n",
       "      <td>35</td>\n",
       "      <td>26</td>\n",
       "      <td>55</td>\n",
       "      <td>No</td>\n",
       "      <td>good</td>\n",
       "      <td>Male</td>\n",
       "      <td>188</td>\n",
       "      <td>90</td>\n",
       "      <td>274</td>\n",
       "      <td>other</td>\n",
       "      <td>Brown</td>\n",
       "      <td>NaN</td>\n",
       "      <td>Marvel Comics</td>\n",
       "    </tr>\n",
       "    <tr>\n",
       "      <th>1</th>\n",
       "      <td>75</td>\n",
       "      <td>100</td>\n",
       "      <td>18</td>\n",
       "      <td>80</td>\n",
       "      <td>24</td>\n",
       "      <td>65</td>\n",
       "      <td>No</td>\n",
       "      <td>good</td>\n",
       "      <td>Male</td>\n",
       "      <td>203</td>\n",
       "      <td>441</td>\n",
       "      <td>365</td>\n",
       "      <td>No Hair</td>\n",
       "      <td>Yellow</td>\n",
       "      <td>Human</td>\n",
       "      <td>Marvel Comics</td>\n",
       "    </tr>\n",
       "    <tr>\n",
       "      <th>2</th>\n",
       "      <td>80</td>\n",
       "      <td>90</td>\n",
       "      <td>55</td>\n",
       "      <td>65</td>\n",
       "      <td>98</td>\n",
       "      <td>65</td>\n",
       "      <td>No</td>\n",
       "      <td>good</td>\n",
       "      <td>Male</td>\n",
       "      <td>185</td>\n",
       "      <td>90</td>\n",
       "      <td>454</td>\n",
       "      <td>No Hair</td>\n",
       "      <td>Blue</td>\n",
       "      <td>other</td>\n",
       "      <td>DC Comics</td>\n",
       "    </tr>\n",
       "    <tr>\n",
       "      <th>3</th>\n",
       "      <td>85</td>\n",
       "      <td>80</td>\n",
       "      <td>55</td>\n",
       "      <td>90</td>\n",
       "      <td>66</td>\n",
       "      <td>95</td>\n",
       "      <td>Yes</td>\n",
       "      <td>bad</td>\n",
       "      <td>Male</td>\n",
       "      <td>203</td>\n",
       "      <td>441</td>\n",
       "      <td>468</td>\n",
       "      <td>No Hair</td>\n",
       "      <td>Green</td>\n",
       "      <td>Human / Radiation</td>\n",
       "      <td>Marvel Comics</td>\n",
       "    </tr>\n",
       "    <tr>\n",
       "      <th>4</th>\n",
       "      <td>100</td>\n",
       "      <td>100</td>\n",
       "      <td>83</td>\n",
       "      <td>100</td>\n",
       "      <td>100</td>\n",
       "      <td>55</td>\n",
       "      <td>No</td>\n",
       "      <td>bad</td>\n",
       "      <td>Male</td>\n",
       "      <td>0</td>\n",
       "      <td>0</td>\n",
       "      <td>540</td>\n",
       "      <td>Black</td>\n",
       "      <td>Blue</td>\n",
       "      <td>Cosmic Entity</td>\n",
       "      <td>Marvel Comics</td>\n",
       "    </tr>\n",
       "  </tbody>\n",
       "</table>\n",
       "</div>"
      ],
      "text/plain": [
       "   Intelligence  Strength  Speed  Durability  Power  Combat Alter Egos   \n",
       "0            80        35     44          35     26      55         No  \\\n",
       "1            75       100     18          80     24      65         No   \n",
       "2            80        90     55          65     98      65         No   \n",
       "3            85        80     55          90     66      95        Yes   \n",
       "4           100       100     83         100    100      55         No   \n",
       "\n",
       "  Alignment Gender  Height  Weight  Total Power Hair color_simple   \n",
       "0      good   Male     188      90          274             other  \\\n",
       "1      good   Male     203     441          365           No Hair   \n",
       "2      good   Male     185      90          454           No Hair   \n",
       "3       bad   Male     203     441          468           No Hair   \n",
       "4       bad   Male       0       0          540             Black   \n",
       "\n",
       "  Eye color_simple        Race_simple Publisher_simple  \n",
       "0            Brown                NaN    Marvel Comics  \n",
       "1           Yellow              Human    Marvel Comics  \n",
       "2             Blue              other        DC Comics  \n",
       "3            Green  Human / Radiation    Marvel Comics  \n",
       "4             Blue      Cosmic Entity    Marvel Comics  "
      ]
     },
     "execution_count": 48,
     "metadata": {},
     "output_type": "execute_result"
    }
   ],
   "source": [
    "# YOUR CODE HERE\n",
    "\n",
    "data_simple.head()"
   ]
  },
  {
   "cell_type": "code",
   "execution_count": null,
   "id": "c10e4876-4158-49f9-8563-11f293e2acd1",
   "metadata": {
    "deletable": false,
    "editable": false,
    "nbgrader": {
     "cell_type": "code",
     "checksum": "06d060d4ed7daf23d0517edd44b64acf",
     "grade": true,
     "grade_id": "cell-a8183ebea68a020a",
     "locked": true,
     "points": 3,
     "schema_version": 3,
     "solution": false,
     "task": false
    },
    "tags": []
   },
   "outputs": [],
   "source": []
  },
  {
   "cell_type": "markdown",
   "id": "ef4feac5-df0e-4d65-8041-76438a90bde6",
   "metadata": {
    "deletable": false,
    "editable": false,
    "nbgrader": {
     "cell_type": "markdown",
     "checksum": "1ae815d7ac7b08b090e90f10713d803b",
     "grade": false,
     "grade_id": "cell-d4de9a0c283314d0",
     "locked": true,
     "schema_version": 3,
     "solution": false,
     "task": false
    },
    "tags": []
   },
   "source": [
    "Since the next tasks will be based on this dataset, we provide you with a new and already adjusted dataset in case your result of task 1.1 is not correct (or you did not do it):"
   ]
  },
  {
   "cell_type": "code",
   "execution_count": 35,
   "id": "09d6b6a4-520d-48e1-9c71-8bd32258a64d",
   "metadata": {
    "deletable": false,
    "editable": false,
    "nbgrader": {
     "cell_type": "code",
     "checksum": "8649448bf671bc761272a1122f386a6c",
     "grade": false,
     "grade_id": "cell-ad3e881e40ab8d32",
     "locked": true,
     "schema_version": 3,
     "solution": false,
     "task": false
    },
    "tags": []
   },
   "outputs": [
    {
     "data": {
      "text/html": [
       "<div>\n",
       "<style scoped>\n",
       "    .dataframe tbody tr th:only-of-type {\n",
       "        vertical-align: middle;\n",
       "    }\n",
       "\n",
       "    .dataframe tbody tr th {\n",
       "        vertical-align: top;\n",
       "    }\n",
       "\n",
       "    .dataframe thead th {\n",
       "        text-align: right;\n",
       "    }\n",
       "</style>\n",
       "<table border=\"1\" class=\"dataframe\">\n",
       "  <thead>\n",
       "    <tr style=\"text-align: right;\">\n",
       "      <th></th>\n",
       "      <th>Intelligence</th>\n",
       "      <th>Strength</th>\n",
       "      <th>Speed</th>\n",
       "      <th>Durability</th>\n",
       "      <th>Power</th>\n",
       "      <th>Combat</th>\n",
       "      <th>Alter Egos</th>\n",
       "      <th>Alignment</th>\n",
       "      <th>Gender</th>\n",
       "      <th>Height</th>\n",
       "      <th>Weight</th>\n",
       "      <th>Total Power</th>\n",
       "      <th>Hair color_simple</th>\n",
       "      <th>Eye color_simple</th>\n",
       "      <th>Race_simple</th>\n",
       "      <th>Publisher_simple</th>\n",
       "    </tr>\n",
       "  </thead>\n",
       "  <tbody>\n",
       "    <tr>\n",
       "      <th>0</th>\n",
       "      <td>80</td>\n",
       "      <td>35</td>\n",
       "      <td>44</td>\n",
       "      <td>35</td>\n",
       "      <td>26</td>\n",
       "      <td>55</td>\n",
       "      <td>No</td>\n",
       "      <td>good</td>\n",
       "      <td>Male</td>\n",
       "      <td>188</td>\n",
       "      <td>90</td>\n",
       "      <td>274</td>\n",
       "      <td>other</td>\n",
       "      <td>Brown</td>\n",
       "      <td>NaN</td>\n",
       "      <td>Marvel Comics</td>\n",
       "    </tr>\n",
       "    <tr>\n",
       "      <th>1</th>\n",
       "      <td>75</td>\n",
       "      <td>100</td>\n",
       "      <td>18</td>\n",
       "      <td>80</td>\n",
       "      <td>24</td>\n",
       "      <td>65</td>\n",
       "      <td>No</td>\n",
       "      <td>good</td>\n",
       "      <td>Male</td>\n",
       "      <td>203</td>\n",
       "      <td>441</td>\n",
       "      <td>365</td>\n",
       "      <td>No Hair</td>\n",
       "      <td>Yellow</td>\n",
       "      <td>Human</td>\n",
       "      <td>Marvel Comics</td>\n",
       "    </tr>\n",
       "    <tr>\n",
       "      <th>2</th>\n",
       "      <td>80</td>\n",
       "      <td>90</td>\n",
       "      <td>55</td>\n",
       "      <td>65</td>\n",
       "      <td>98</td>\n",
       "      <td>65</td>\n",
       "      <td>No</td>\n",
       "      <td>good</td>\n",
       "      <td>Male</td>\n",
       "      <td>185</td>\n",
       "      <td>90</td>\n",
       "      <td>454</td>\n",
       "      <td>No Hair</td>\n",
       "      <td>Blue</td>\n",
       "      <td>other</td>\n",
       "      <td>DC Comics</td>\n",
       "    </tr>\n",
       "    <tr>\n",
       "      <th>3</th>\n",
       "      <td>85</td>\n",
       "      <td>80</td>\n",
       "      <td>55</td>\n",
       "      <td>90</td>\n",
       "      <td>66</td>\n",
       "      <td>95</td>\n",
       "      <td>Yes</td>\n",
       "      <td>bad</td>\n",
       "      <td>Male</td>\n",
       "      <td>203</td>\n",
       "      <td>441</td>\n",
       "      <td>468</td>\n",
       "      <td>No Hair</td>\n",
       "      <td>Green</td>\n",
       "      <td>Human / Radiation</td>\n",
       "      <td>Marvel Comics</td>\n",
       "    </tr>\n",
       "    <tr>\n",
       "      <th>4</th>\n",
       "      <td>100</td>\n",
       "      <td>100</td>\n",
       "      <td>83</td>\n",
       "      <td>100</td>\n",
       "      <td>100</td>\n",
       "      <td>55</td>\n",
       "      <td>No</td>\n",
       "      <td>bad</td>\n",
       "      <td>Male</td>\n",
       "      <td>0</td>\n",
       "      <td>0</td>\n",
       "      <td>540</td>\n",
       "      <td>Black</td>\n",
       "      <td>Blue</td>\n",
       "      <td>Cosmic Entity</td>\n",
       "      <td>Marvel Comics</td>\n",
       "    </tr>\n",
       "  </tbody>\n",
       "</table>\n",
       "</div>"
      ],
      "text/plain": [
       "   Intelligence  Strength  Speed  Durability  Power  Combat Alter Egos   \n",
       "0            80        35     44          35     26      55         No  \\\n",
       "1            75       100     18          80     24      65         No   \n",
       "2            80        90     55          65     98      65         No   \n",
       "3            85        80     55          90     66      95        Yes   \n",
       "4           100       100     83         100    100      55         No   \n",
       "\n",
       "  Alignment Gender  Height  Weight  Total Power Hair color_simple   \n",
       "0      good   Male     188      90          274             other  \\\n",
       "1      good   Male     203     441          365           No Hair   \n",
       "2      good   Male     185      90          454           No Hair   \n",
       "3       bad   Male     203     441          468           No Hair   \n",
       "4       bad   Male       0       0          540             Black   \n",
       "\n",
       "  Eye color_simple        Race_simple Publisher_simple  \n",
       "0            Brown                NaN    Marvel Comics  \n",
       "1           Yellow              Human    Marvel Comics  \n",
       "2             Blue              other        DC Comics  \n",
       "3            Green  Human / Radiation    Marvel Comics  \n",
       "4             Blue      Cosmic Entity    Marvel Comics  "
      ]
     },
     "execution_count": 35,
     "metadata": {},
     "output_type": "execute_result"
    }
   ],
   "source": [
    "data_simple = pd.read_csv('ass04_data_simple.csv')\n",
    "data_simple.head()"
   ]
  },
  {
   "cell_type": "markdown",
   "id": "29b1d839-ed5f-48a0-b31f-e503b5a1801f",
   "metadata": {
    "deletable": false,
    "editable": false,
    "nbgrader": {
     "cell_type": "markdown",
     "checksum": "db893b2e900ef3c0375222b5f364d175",
     "grade": false,
     "grade_id": "cell-66b3349b408f0467",
     "locked": true,
     "schema_version": 3,
     "solution": false,
     "task": false
    },
    "tags": []
   },
   "source": [
    "### Task 1.2\n",
    "Later we want to classify whether a superhero is good or bad. Therefore, we have to clean-up the alignment.\n",
    "\n",
    "Drop all samples which `Alignment` is `neutral` and all rows where the `Alignment` is NaN.\n",
    "\n",
    "Store the new DataFrame in the variable `data_aligned`."
   ]
  },
  {
   "cell_type": "code",
   "execution_count": 38,
   "id": "3121e7ee-d987-4033-aa1b-86b4aa329b62",
   "metadata": {
    "deletable": false,
    "nbgrader": {
     "cell_type": "code",
     "checksum": "a0fda07437135827c116d82ae60969a3",
     "grade": false,
     "grade_id": "cell-ee80eac1cc70fb5d",
     "locked": false,
     "schema_version": 3,
     "solution": true,
     "task": false
    },
    "tags": []
   },
   "outputs": [
    {
     "data": {
      "text/html": [
       "<div>\n",
       "<style scoped>\n",
       "    .dataframe tbody tr th:only-of-type {\n",
       "        vertical-align: middle;\n",
       "    }\n",
       "\n",
       "    .dataframe tbody tr th {\n",
       "        vertical-align: top;\n",
       "    }\n",
       "\n",
       "    .dataframe thead th {\n",
       "        text-align: right;\n",
       "    }\n",
       "</style>\n",
       "<table border=\"1\" class=\"dataframe\">\n",
       "  <thead>\n",
       "    <tr style=\"text-align: right;\">\n",
       "      <th></th>\n",
       "      <th>Intelligence</th>\n",
       "      <th>Strength</th>\n",
       "      <th>Speed</th>\n",
       "      <th>Durability</th>\n",
       "      <th>Power</th>\n",
       "      <th>Combat</th>\n",
       "      <th>Alter Egos</th>\n",
       "      <th>Alignment</th>\n",
       "      <th>Gender</th>\n",
       "      <th>Height</th>\n",
       "      <th>Weight</th>\n",
       "      <th>Total Power</th>\n",
       "      <th>Hair color_simple</th>\n",
       "      <th>Eye color_simple</th>\n",
       "      <th>Race_simple</th>\n",
       "      <th>Publisher_simple</th>\n",
       "    </tr>\n",
       "  </thead>\n",
       "  <tbody>\n",
       "    <tr>\n",
       "      <th>0</th>\n",
       "      <td>80</td>\n",
       "      <td>35</td>\n",
       "      <td>44</td>\n",
       "      <td>35</td>\n",
       "      <td>26</td>\n",
       "      <td>55</td>\n",
       "      <td>No</td>\n",
       "      <td>good</td>\n",
       "      <td>Male</td>\n",
       "      <td>188</td>\n",
       "      <td>90</td>\n",
       "      <td>274</td>\n",
       "      <td>other</td>\n",
       "      <td>Brown</td>\n",
       "      <td>NaN</td>\n",
       "      <td>Marvel Comics</td>\n",
       "    </tr>\n",
       "    <tr>\n",
       "      <th>1</th>\n",
       "      <td>75</td>\n",
       "      <td>100</td>\n",
       "      <td>18</td>\n",
       "      <td>80</td>\n",
       "      <td>24</td>\n",
       "      <td>65</td>\n",
       "      <td>No</td>\n",
       "      <td>good</td>\n",
       "      <td>Male</td>\n",
       "      <td>203</td>\n",
       "      <td>441</td>\n",
       "      <td>365</td>\n",
       "      <td>No Hair</td>\n",
       "      <td>Yellow</td>\n",
       "      <td>Human</td>\n",
       "      <td>Marvel Comics</td>\n",
       "    </tr>\n",
       "    <tr>\n",
       "      <th>2</th>\n",
       "      <td>80</td>\n",
       "      <td>90</td>\n",
       "      <td>55</td>\n",
       "      <td>65</td>\n",
       "      <td>98</td>\n",
       "      <td>65</td>\n",
       "      <td>No</td>\n",
       "      <td>good</td>\n",
       "      <td>Male</td>\n",
       "      <td>185</td>\n",
       "      <td>90</td>\n",
       "      <td>454</td>\n",
       "      <td>No Hair</td>\n",
       "      <td>Blue</td>\n",
       "      <td>other</td>\n",
       "      <td>DC Comics</td>\n",
       "    </tr>\n",
       "    <tr>\n",
       "      <th>3</th>\n",
       "      <td>85</td>\n",
       "      <td>80</td>\n",
       "      <td>55</td>\n",
       "      <td>90</td>\n",
       "      <td>66</td>\n",
       "      <td>95</td>\n",
       "      <td>Yes</td>\n",
       "      <td>bad</td>\n",
       "      <td>Male</td>\n",
       "      <td>203</td>\n",
       "      <td>441</td>\n",
       "      <td>468</td>\n",
       "      <td>No Hair</td>\n",
       "      <td>Green</td>\n",
       "      <td>Human / Radiation</td>\n",
       "      <td>Marvel Comics</td>\n",
       "    </tr>\n",
       "    <tr>\n",
       "      <th>4</th>\n",
       "      <td>100</td>\n",
       "      <td>100</td>\n",
       "      <td>83</td>\n",
       "      <td>100</td>\n",
       "      <td>100</td>\n",
       "      <td>55</td>\n",
       "      <td>No</td>\n",
       "      <td>bad</td>\n",
       "      <td>Male</td>\n",
       "      <td>0</td>\n",
       "      <td>0</td>\n",
       "      <td>540</td>\n",
       "      <td>Black</td>\n",
       "      <td>Blue</td>\n",
       "      <td>Cosmic Entity</td>\n",
       "      <td>Marvel Comics</td>\n",
       "    </tr>\n",
       "  </tbody>\n",
       "</table>\n",
       "</div>"
      ],
      "text/plain": [
       "   Intelligence  Strength  Speed  Durability  Power  Combat Alter Egos   \n",
       "0            80        35     44          35     26      55         No  \\\n",
       "1            75       100     18          80     24      65         No   \n",
       "2            80        90     55          65     98      65         No   \n",
       "3            85        80     55          90     66      95        Yes   \n",
       "4           100       100     83         100    100      55         No   \n",
       "\n",
       "  Alignment Gender  Height  Weight  Total Power Hair color_simple   \n",
       "0      good   Male     188      90          274             other  \\\n",
       "1      good   Male     203     441          365           No Hair   \n",
       "2      good   Male     185      90          454           No Hair   \n",
       "3       bad   Male     203     441          468           No Hair   \n",
       "4       bad   Male       0       0          540             Black   \n",
       "\n",
       "  Eye color_simple        Race_simple Publisher_simple  \n",
       "0            Brown                NaN    Marvel Comics  \n",
       "1           Yellow              Human    Marvel Comics  \n",
       "2             Blue              other        DC Comics  \n",
       "3            Green  Human / Radiation    Marvel Comics  \n",
       "4             Blue      Cosmic Entity    Marvel Comics  "
      ]
     },
     "execution_count": 38,
     "metadata": {},
     "output_type": "execute_result"
    }
   ],
   "source": [
    "# YOUR CODE HERE\n",
    "data_cleaned = data_simple.dropna(subset=['Alignment'])\n",
    "\n",
    "# Drop rows where Alignment is neutral\n",
    "data_aligned = data_cleaned[data_cleaned['Alignment'] != 'neutral']\n",
    "\n",
    "data_aligned.head()"
   ]
  },
  {
   "cell_type": "code",
   "execution_count": null,
   "id": "305ebbc5-f012-4885-9332-e035ef3fb100",
   "metadata": {
    "deletable": false,
    "editable": false,
    "nbgrader": {
     "cell_type": "code",
     "checksum": "b26212cf841b0c54a3fbf071bcc84e0e",
     "grade": true,
     "grade_id": "cell-50e6e5d60db6d2a9",
     "locked": true,
     "points": 1,
     "schema_version": 3,
     "solution": false,
     "task": false
    },
    "tags": []
   },
   "outputs": [],
   "source": []
  },
  {
   "cell_type": "code",
   "execution_count": null,
   "id": "0659598b-a5b3-4c7c-922b-4e11903e5e0f",
   "metadata": {
    "deletable": false,
    "editable": false,
    "nbgrader": {
     "cell_type": "code",
     "checksum": "261c11e9937c424547259193ef244a80",
     "grade": true,
     "grade_id": "cell-50e6e5d60db6d2a91",
     "locked": true,
     "points": 0,
     "schema_version": 3,
     "solution": false,
     "task": false
    },
    "tags": []
   },
   "outputs": [],
   "source": []
  },
  {
   "cell_type": "markdown",
   "id": "82e51740-c2bf-4730-8488-36e9eff7c592",
   "metadata": {
    "deletable": false,
    "editable": false,
    "nbgrader": {
     "cell_type": "markdown",
     "checksum": "bacbb55502750819cd2d272b436564f1",
     "grade": false,
     "grade_id": "cell-962b1e6801d3ed6c",
     "locked": true,
     "schema_version": 3,
     "solution": false,
     "task": false
    },
    "tags": []
   },
   "source": [
    "### Task 1.3\n",
    "Split the data into `X_train`, `X_test`, `y_train` and `y_test` using the `train_test_split()`. As already mentioned, our target value **y** is the `Alignment`.\n",
    "\n",
    "Test size should be 30% and the random state should be set to 1111."
   ]
  },
  {
   "cell_type": "code",
   "execution_count": 39,
   "id": "1e3128b3-f007-4682-8cc7-ca07c4298a73",
   "metadata": {
    "deletable": false,
    "nbgrader": {
     "cell_type": "code",
     "checksum": "c2291e00060f374436dfbd5470cf8721",
     "grade": false,
     "grade_id": "cell-2abbe67d4410e29e",
     "locked": false,
     "schema_version": 3,
     "solution": true,
     "task": false
    },
    "tags": []
   },
   "outputs": [],
   "source": [
    "# YOUR CODE HERE\n",
    "from sklearn.model_selection import train_test_split\n",
    "\n",
    "# Assuming you have a DataFrame named 'data_aligned' with the target column 'Alignment'\n",
    "\n",
    "# Splitting the data into features (X) and target (y)\n",
    "X = data_aligned.drop('Alignment', axis=1)\n",
    "y = data_aligned['Alignment']\n",
    "\n",
    "# Splitting the data into training and testing sets\n",
    "X_train, X_test, y_train, y_test = train_test_split(X, y, test_size=0.3, random_state=1111)"
   ]
  },
  {
   "cell_type": "code",
   "execution_count": null,
   "id": "8d409e4a-fec8-42a2-b1a2-cdd712b351b8",
   "metadata": {
    "deletable": false,
    "editable": false,
    "nbgrader": {
     "cell_type": "code",
     "checksum": "c2abf7d19c9cbcb55936de1cd0f239d0",
     "grade": true,
     "grade_id": "cell-087d2fca3889abe8",
     "locked": true,
     "points": 1,
     "schema_version": 3,
     "solution": false,
     "task": false
    },
    "tags": []
   },
   "outputs": [],
   "source": []
  },
  {
   "cell_type": "markdown",
   "id": "360f818b-bec3-496e-9003-979b44866a33",
   "metadata": {
    "deletable": false,
    "editable": false,
    "nbgrader": {
     "cell_type": "markdown",
     "checksum": "b60db7d4758c9842d2cd9b18eb83ebb2",
     "grade": false,
     "grade_id": "cell-9f73d27645f03e87",
     "locked": true,
     "schema_version": 3,
     "solution": false,
     "task": false
    },
    "tags": []
   },
   "source": [
    "## Task 2 - Building Pipeline"
   ]
  },
  {
   "cell_type": "markdown",
   "id": "727a0b3e-beed-4338-95de-b5da1ed65f9b",
   "metadata": {
    "deletable": false,
    "editable": false,
    "nbgrader": {
     "cell_type": "markdown",
     "checksum": "7900e31a80b1594b29daeba5bca9a7f2",
     "grade": false,
     "grade_id": "cell-e4388b263b253f4e",
     "locked": true,
     "schema_version": 3,
     "solution": false,
     "task": false
    },
    "tags": []
   },
   "source": [
    "### Task 2.1\n",
    "Build a `Pipeline()` that contains the pre-processing steps for our numerical predictors. Include:\n",
    "\n",
    "- `SimpleImputer()` that is called *\"num_imp\"* and uses **mean** as strategy.\n",
    "- `MinMaxScaler()` that is called *\"num_sc\"*.\n",
    "\n",
    "Store the pipeline in the variable `pp_num`."
   ]
  },
  {
   "cell_type": "code",
   "execution_count": 56,
   "id": "219a44dd-fd83-406b-9dbe-dae9dfb5ab5d",
   "metadata": {
    "deletable": false,
    "nbgrader": {
     "cell_type": "code",
     "checksum": "3a1a37224b81d22f61cb806f12621dcc",
     "grade": false,
     "grade_id": "cell-e29a88b1a48ab16c",
     "locked": false,
     "schema_version": 3,
     "solution": true,
     "task": false
    },
    "tags": []
   },
   "outputs": [],
   "source": [
    "# YOUR CODE HERE\n",
    "\n",
    "\n",
    "pp_num = Pipeline([\n",
    "    ('num_imp', SimpleImputer(strategy='mean')),\n",
    "    ('num_sc', MinMaxScaler())\n",
    "])"
   ]
  },
  {
   "cell_type": "code",
   "execution_count": null,
   "id": "6ad60031-1dde-4e66-9d78-231e6bd17081",
   "metadata": {
    "deletable": false,
    "editable": false,
    "nbgrader": {
     "cell_type": "code",
     "checksum": "45e69e94d0c5ba15aabb665eda12753f",
     "grade": true,
     "grade_id": "cell-6da7570ffdbe760f",
     "locked": true,
     "points": 1,
     "schema_version": 3,
     "solution": false,
     "task": false
    },
    "tags": []
   },
   "outputs": [],
   "source": []
  },
  {
   "cell_type": "code",
   "execution_count": null,
   "id": "2d074e7c-7b4e-4510-9f05-0b04ea389191",
   "metadata": {
    "deletable": false,
    "editable": false,
    "nbgrader": {
     "cell_type": "code",
     "checksum": "6f22e5f3db80430edafc589b27dae427",
     "grade": true,
     "grade_id": "cell-135ad9f61e70b8f9",
     "locked": true,
     "points": 1,
     "schema_version": 3,
     "solution": false,
     "task": false
    }
   },
   "outputs": [],
   "source": []
  },
  {
   "cell_type": "markdown",
   "id": "0cce1f69-03eb-4447-bd18-0df54fe86a11",
   "metadata": {
    "deletable": false,
    "editable": false,
    "nbgrader": {
     "cell_type": "markdown",
     "checksum": "7efa9133b305def282b40d51d4933dd1",
     "grade": false,
     "grade_id": "cell-6da81342d41ceb51",
     "locked": true,
     "schema_version": 3,
     "solution": false,
     "task": false
    },
    "tags": []
   },
   "source": [
    "### Task 2.2\n",
    "Build another `Pipeline()` that contains the pre-processing steps for our categorical predictors. Include:\n",
    "\n",
    "- `SimpleImputer()` that is called *\"cat_imp\"* and uses **most_frequent** as `strategy`.\n",
    "- `OneHotEncoder()` that is called *\"cat_enc\"* and drops the first category in each feature. Set `sparse_output` to **False** and `handle_unknown` to **\"ignore\"**.\n",
    "\n",
    "Store the pipeline in the variable `pp_cat`."
   ]
  },
  {
   "cell_type": "code",
   "execution_count": 57,
   "id": "bf4d2fca-8311-4405-a707-51b2bf4e6710",
   "metadata": {
    "deletable": false,
    "nbgrader": {
     "cell_type": "code",
     "checksum": "3b3e03f45d6b3a486c7c724268c13b6c",
     "grade": false,
     "grade_id": "cell-2a83051341b8fbbc",
     "locked": false,
     "schema_version": 3,
     "solution": true,
     "task": false
    },
    "tags": []
   },
   "outputs": [],
   "source": [
    "# YOUR CODE HERE\n",
    "pp_cat = Pipeline([\n",
    "    ('cat_imp', SimpleImputer(strategy='most_frequent')),\n",
    "    ('cat_enc', OneHotEncoder(sparse_output=False, handle_unknown='ignore'))\n",
    "])"
   ]
  },
  {
   "cell_type": "code",
   "execution_count": null,
   "id": "c4bec7af-5c87-43a2-988b-59e8a7be8afb",
   "metadata": {
    "deletable": false,
    "editable": false,
    "nbgrader": {
     "cell_type": "code",
     "checksum": "05c2a0836c12ef3475a9a1460b530a59",
     "grade": true,
     "grade_id": "cell-8fc241edc947afce",
     "locked": true,
     "points": 1,
     "schema_version": 3,
     "solution": false,
     "task": false
    },
    "tags": []
   },
   "outputs": [],
   "source": []
  },
  {
   "cell_type": "code",
   "execution_count": null,
   "id": "b0a8a2c4-044b-488a-9e0e-50a4ee95fdf2",
   "metadata": {
    "deletable": false,
    "editable": false,
    "nbgrader": {
     "cell_type": "code",
     "checksum": "ea74013a349ceaf2b746bdf1c3af9b6b",
     "grade": true,
     "grade_id": "cell-e8267625a3a37ade",
     "locked": true,
     "points": 1,
     "schema_version": 3,
     "solution": false,
     "task": false
    },
    "tags": []
   },
   "outputs": [],
   "source": []
  },
  {
   "cell_type": "markdown",
   "id": "6b899d8c-d25e-4307-b861-d3c40690eb07",
   "metadata": {
    "deletable": false,
    "editable": false,
    "nbgrader": {
     "cell_type": "markdown",
     "checksum": "9c83a7cf7af62df4a0b3e7c815d6bec8",
     "grade": false,
     "grade_id": "cell-e859c782d07627bb",
     "locked": true,
     "schema_version": 3,
     "solution": false,
     "task": false
    }
   },
   "source": [
    "### Task 2.3\n",
    "Combine the pre-processing steps for the categorical and the numerical data using a `ColumnTransformer()`. As always, the numerical pipeline should be applied to numerical features and the categorical pipeline to categorical features. Store the column transformer in the variable `ct`."
   ]
  },
  {
   "cell_type": "code",
   "execution_count": 58,
   "id": "4368f289-76ee-4463-acb6-6eaf1ba6cefb",
   "metadata": {
    "deletable": false,
    "nbgrader": {
     "cell_type": "code",
     "checksum": "c95161baf5f4944c1ceb4fd45e781be0",
     "grade": false,
     "grade_id": "cell-897e9a0fb727b1d3",
     "locked": false,
     "schema_version": 3,
     "solution": true,
     "task": false
    },
    "tags": []
   },
   "outputs": [],
   "source": [
    "num_feat = ['Intelligence', 'Strength','Speed','Durability','Power', 'Combat', 'Height', 'Weight', 'Total Power']\n",
    "cat_feat = ['Alter Egos','Publisher_simple','Gender','Hair color_simple', 'Eye color_simple', 'Race_simple']\n",
    "\n",
    "# YOUR CODE HERE\n",
    "ct = ColumnTransformer([\n",
    "    ('num_preprocessing', pp_num, num_feat),\n",
    "    ('cat_preprocessing', pp_cat, cat_feat)\n",
    "])"
   ]
  },
  {
   "cell_type": "code",
   "execution_count": null,
   "id": "b43e90c2-8d62-4931-a983-8820ce4002eb",
   "metadata": {
    "deletable": false,
    "editable": false,
    "nbgrader": {
     "cell_type": "code",
     "checksum": "545ce9ef2d327bab582c0efc542ddc46",
     "grade": true,
     "grade_id": "cell-14633aa594d10479",
     "locked": true,
     "points": 1,
     "schema_version": 3,
     "solution": false,
     "task": false
    },
    "tags": []
   },
   "outputs": [],
   "source": []
  },
  {
   "cell_type": "code",
   "execution_count": null,
   "id": "f822edb9-906f-4277-9a3d-b9d4a24af012",
   "metadata": {
    "deletable": false,
    "editable": false,
    "nbgrader": {
     "cell_type": "code",
     "checksum": "1fe5907146305a75fbb8eef3dbe809aa",
     "grade": true,
     "grade_id": "cell-5c1b7bf070035bf4",
     "locked": true,
     "points": 1,
     "schema_version": 3,
     "solution": false,
     "task": false
    }
   },
   "outputs": [],
   "source": []
  },
  {
   "cell_type": "markdown",
   "id": "35d87364-c338-40a9-9571-facf5ad86cb3",
   "metadata": {
    "deletable": false,
    "editable": false,
    "nbgrader": {
     "cell_type": "markdown",
     "checksum": "eeab884c04d8126bfdac74e4fb0e35ac",
     "grade": false,
     "grade_id": "cell-4d63f1fa91e36cb3",
     "locked": true,
     "schema_version": 3,
     "solution": false,
     "task": false
    }
   },
   "source": [
    "### Task 2.4\n",
    "Set-up the whole pipeline that contains:\n",
    "\n",
    "- The prepared `ColumnTransformer()` *\"ct\"*.\n",
    "- `SVC()` that is called *\"classifier\"*. Set `max_iter` to **1.000.000**.\n",
    "\n",
    "Store the pipeline in the variable `pip`."
   ]
  },
  {
   "cell_type": "code",
   "execution_count": 59,
   "id": "c201945f-bfde-4556-8d9b-563a2ff04a93",
   "metadata": {
    "deletable": false,
    "nbgrader": {
     "cell_type": "code",
     "checksum": "b4ac51139732499371482350c588e5c3",
     "grade": false,
     "grade_id": "cell-b46793bb9072c5da",
     "locked": false,
     "schema_version": 3,
     "solution": true,
     "task": false
    },
    "tags": []
   },
   "outputs": [
    {
     "name": "stdout",
     "output_type": "stream",
     "text": [
      "Pipeline(steps=[('ct',\n",
      "                 ColumnTransformer(transformers=[('num_preprocessing',\n",
      "                                                  Pipeline(steps=[('num_imp',\n",
      "                                                                   SimpleImputer()),\n",
      "                                                                  ('num_sc',\n",
      "                                                                   MinMaxScaler())]),\n",
      "                                                  ['Intelligence', 'Strength',\n",
      "                                                   'Speed', 'Durability',\n",
      "                                                   'Power', 'Combat', 'Height',\n",
      "                                                   'Weight', 'Total Power']),\n",
      "                                                 ('cat_preprocessing',\n",
      "                                                  Pipeline(steps=[('cat_imp',\n",
      "                                                                   SimpleImputer(strategy='most_frequent')),\n",
      "                                                                  ('cat_enc',\n",
      "                                                                   OneHotEncoder(handle_unknown='ignore',\n",
      "                                                                                 sparse_output=False))]),\n",
      "                                                  ['Alter Egos',\n",
      "                                                   'Publisher_simple', 'Gender',\n",
      "                                                   'Hair color_simple',\n",
      "                                                   'Eye color_simple',\n",
      "                                                   'Race_simple'])])),\n",
      "                ('classifier', SVC(max_iter=1000000))])\n"
     ]
    }
   ],
   "source": [
    "# YOUR CODE HERE\n",
    "from sklearn.svm import SVC\n",
    "from sklearn.pipeline import Pipeline\n",
    "\n",
    "\n",
    "# Creating the pipeline\n",
    "pip = Pipeline([\n",
    "    ('ct', ct),\n",
    "    ('classifier', SVC(max_iter=1000000))\n",
    "])\n",
    "\n",
    "print(pip)"
   ]
  },
  {
   "cell_type": "code",
   "execution_count": null,
   "id": "25ac04ae-07aa-4108-9688-82546b54add4",
   "metadata": {
    "deletable": false,
    "editable": false,
    "nbgrader": {
     "cell_type": "code",
     "checksum": "49f2dbb0d88e185031ea7f320cea8838",
     "grade": true,
     "grade_id": "cell-8fd2bf58542b1ff5",
     "locked": true,
     "points": 1,
     "schema_version": 3,
     "solution": false,
     "task": false
    },
    "tags": []
   },
   "outputs": [],
   "source": []
  },
  {
   "cell_type": "code",
   "execution_count": null,
   "id": "049a3a44-20ef-4da0-a4a1-a19d0c6bc44c",
   "metadata": {
    "deletable": false,
    "editable": false,
    "nbgrader": {
     "cell_type": "code",
     "checksum": "2b0052f49b440300654dbabd5f812e6e",
     "grade": true,
     "grade_id": "cell-d5a979dd5b8117fe",
     "locked": true,
     "points": 1,
     "schema_version": 3,
     "solution": false,
     "task": false
    },
    "tags": []
   },
   "outputs": [],
   "source": []
  },
  {
   "cell_type": "markdown",
   "id": "b1711eaf-7503-474b-9b8a-dc3daecac75b",
   "metadata": {
    "deletable": false,
    "editable": false,
    "nbgrader": {
     "cell_type": "markdown",
     "checksum": "ec68572bedf77503361ebb41b1acd913",
     "grade": false,
     "grade_id": "cell-be79e51391f5acdd",
     "locked": true,
     "schema_version": 3,
     "solution": false,
     "task": false
    },
    "tags": []
   },
   "source": [
    "## Task 3 - Grid Search"
   ]
  },
  {
   "cell_type": "markdown",
   "id": "9e67122f-2fac-43df-85e4-bf8527dbb8a4",
   "metadata": {
    "deletable": false,
    "editable": false,
    "nbgrader": {
     "cell_type": "markdown",
     "checksum": "f7ad8fb08b2d5d28facf4b9e9ee0f1f2",
     "grade": false,
     "grade_id": "cell-1d5f450d456d9e9d",
     "locked": true,
     "schema_version": 3,
     "solution": false,
     "task": false
    }
   },
   "source": [
    "### Task 3.1\n",
    "Build the parameter grid to be used with your pipeline in a grid search and store it in the variable `gs_param`.\n",
    "Apply the following configurations:\n",
    "\n",
    "- Use for the categorical SimpleImputer **most_frequent** and **constant** as `strategy`. In constant mode, set the `fill_value` to **\"other\"**.\n",
    "\n",
    "- Use all possible `kernel`s for the classifier, except for the polynomial kernel.\n",
    "\n",
    "- Vary the regularization parameter `C` for the classifier. Use **0.3, 0.4, 0.5, 0.7 and 1.0**.\n",
    "\n",
    "- Vary the `gamma` coefficient for the classifier. Use **0.004, 0.005, 0.006, 0.01, 0.05, 0.1 and 0.5**."
   ]
  },
  {
   "cell_type": "code",
   "execution_count": 77,
   "id": "c46b2b59-0b47-47b8-b4b8-e441e5db6999",
   "metadata": {
    "deletable": false,
    "nbgrader": {
     "cell_type": "code",
     "checksum": "c80d8d20c53ad83cdbc90a5f1555dc0d",
     "grade": false,
     "grade_id": "cell-c95ba4f9d37affe5",
     "locked": false,
     "schema_version": 3,
     "solution": true,
     "task": false
    },
    "tags": []
   },
   "outputs": [],
   "source": [
    "# YOUR CODE HERE\n",
    "from sklearn.model_selection import GridSearchCV\n",
    "\n",
    "# Define the parameter grid\n",
    "gs_param = [\n",
    "    {'ct__cat_preprocessing__cat_imp__strategy': ['most_frequent'],\n",
    "    'classifier__kernel': ['linear', 'rbf', 'sigmoid'],\n",
    "    'classifier__C': [0.3, 0.4, 0.5, 0.7, 1.0],\n",
    "    'classifier__gamma': [0.004, 0.005, 0.006, 0.01, 0.05, 0.1, 0.5]},\n",
    "    {'ct__cat_preprocessing__cat_imp__strategy': ['constant'],\n",
    "    'ct__cat_preprocessing__cat_imp__fill_value': ['other'],\n",
    "    'classifier__C': [0.3, 0.4, 0.5, 0.7, 1.0],\n",
    "    'classifier__kernel': ['linear', 'rbf', 'sigmoid'],\n",
    "    'classifier__gamma': [0.004, 0.005, 0.006, 0.01, 0.05, 0.1, 0.5]}\n",
    "]\n",
    "\n"
   ]
  },
  {
   "cell_type": "code",
   "execution_count": null,
   "id": "9875dc5c-8633-489c-bf3e-77c2d6508db3",
   "metadata": {
    "deletable": false,
    "editable": false,
    "nbgrader": {
     "cell_type": "code",
     "checksum": "3c77334ca3a5c8bdfa84d89773c87a06",
     "grade": true,
     "grade_id": "cell-6aaf7673468f3467",
     "locked": true,
     "points": 1,
     "schema_version": 3,
     "solution": false,
     "task": false
    },
    "tags": []
   },
   "outputs": [],
   "source": []
  },
  {
   "cell_type": "markdown",
   "id": "aa15961c-eb6b-416e-9e8c-f9e8ee93d105",
   "metadata": {
    "deletable": false,
    "editable": false,
    "nbgrader": {
     "cell_type": "markdown",
     "checksum": "698df75f4de6ccda96e9d40d4c8b96ba",
     "grade": false,
     "grade_id": "cell-3425cf5660d63397",
     "locked": true,
     "schema_version": 3,
     "solution": false,
     "task": false
    },
    "tags": []
   },
   "source": [
    "### Task 3.2\n",
    "Let's build the `GridSearchCV()` object. Use the parameter grid from task 3.1. For the cross-validation, use a `StratifiedKFold()` validation with **5** splits, set `random_state` to **11** and **enable** the shuffling. To have access to the best model later, be sure that `refit` is set to **True**. Store the grid search object in the variable `gs`."
   ]
  },
  {
   "cell_type": "code",
   "execution_count": 79,
   "id": "faa55f24-6f04-4419-b9fa-7f404e1224c6",
   "metadata": {
    "deletable": false,
    "nbgrader": {
     "cell_type": "code",
     "checksum": "165d82d8fef92376881781214225eeda",
     "grade": false,
     "grade_id": "cell-48f09300ad2617a0",
     "locked": false,
     "schema_version": 3,
     "solution": true,
     "task": false
    },
    "tags": []
   },
   "outputs": [],
   "source": [
    "# YOUR CODE HERE\n",
    "from sklearn.model_selection import GridSearchCV, StratifiedKFold\n",
    "\n",
    "# Assuming you have the parameter grid defined as 'param_grid'\n",
    "\n",
    "# Create StratifiedKFold with shuffling\n",
    "cv = StratifiedKFold(n_splits=5, shuffle=True, random_state=11)\n",
    "\n",
    "# Create the GridSearchCV object\n",
    "gs = GridSearchCV(pip, gs_param, cv=cv, refit=True)"
   ]
  },
  {
   "cell_type": "code",
   "execution_count": null,
   "id": "e5881d57-864a-41ff-b222-785e8b01191c",
   "metadata": {
    "deletable": false,
    "editable": false,
    "nbgrader": {
     "cell_type": "code",
     "checksum": "1c121fbe03477db85b79ec26bd4560d9",
     "grade": true,
     "grade_id": "cell-411ec3869d14d591",
     "locked": true,
     "points": 1,
     "schema_version": 3,
     "solution": false,
     "task": false
    },
    "tags": []
   },
   "outputs": [],
   "source": []
  },
  {
   "cell_type": "code",
   "execution_count": null,
   "id": "2cb32d51-3aea-48d0-9f6d-6c8fcd86f776",
   "metadata": {
    "deletable": false,
    "editable": false,
    "nbgrader": {
     "cell_type": "code",
     "checksum": "96d9ebc67296b0e03cc587b3edd24e80",
     "grade": true,
     "grade_id": "cell-518c7dcebecd9235",
     "locked": true,
     "points": 1,
     "schema_version": 3,
     "solution": false,
     "task": false
    },
    "tags": []
   },
   "outputs": [],
   "source": []
  },
  {
   "cell_type": "markdown",
   "id": "98043326-280c-4028-852a-fb4942ce25f9",
   "metadata": {
    "deletable": false,
    "editable": false,
    "nbgrader": {
     "cell_type": "markdown",
     "checksum": "c562ede5edf0997d9bbf2019b25b1c9b",
     "grade": false,
     "grade_id": "cell-990f31d0c36cbda5",
     "locked": true,
     "schema_version": 3,
     "solution": false,
     "task": false
    },
    "tags": []
   },
   "source": [
    "### Task 3.3\n",
    "Fit the grid search using `X_train` and `y_train`."
   ]
  },
  {
   "cell_type": "code",
   "execution_count": 80,
   "id": "3d569b6c-699d-4cdd-8956-4e648d97a889",
   "metadata": {
    "deletable": false,
    "nbgrader": {
     "cell_type": "code",
     "checksum": "a5ac7705af589bf1407af715269f8e38",
     "grade": false,
     "grade_id": "cell-e2c72f569544c087",
     "locked": false,
     "schema_version": 3,
     "solution": true,
     "task": false
    },
    "tags": []
   },
   "outputs": [
    {
     "name": "stdout",
     "output_type": "stream",
     "text": [
      "\n",
      "Accuracy on the train set: 0.8739837398373984\n",
      "Accuracy on the test set: 0.7122641509433962\n",
      "\n",
      "{'classifier__C': 1.0, 'classifier__gamma': 0.5, 'classifier__kernel': 'rbf', 'ct__cat_preprocessing__cat_imp__strategy': 'most_frequent'}\n"
     ]
    }
   ],
   "source": [
    "# YOUR CODE HERE\n",
    "gs.fit(X_train, y_train)\n",
    "\n",
    "\n",
    "acc_train = gs.best_estimator_.score(X_train, y_train)\n",
    "acc_test = gs.best_estimator_.score(X_test, y_test)\n",
    "\n",
    "print(f\"\\nAccuracy on the train set: {acc_train}\")\n",
    "print(f\"Accuracy on the test set: {acc_test}\\n\")\n",
    "print(gs.best_params_)"
   ]
  },
  {
   "cell_type": "code",
   "execution_count": null,
   "id": "22fbfe3b-bbe8-47ea-9144-3d89c266c2b4",
   "metadata": {
    "deletable": false,
    "editable": false,
    "nbgrader": {
     "cell_type": "code",
     "checksum": "fd69065dd92a9f578c842e1ba3302dff",
     "grade": true,
     "grade_id": "cell-535e871b6f9f4b47",
     "locked": true,
     "points": 1,
     "schema_version": 3,
     "solution": false,
     "task": false
    },
    "tags": []
   },
   "outputs": [],
   "source": []
  },
  {
   "cell_type": "code",
   "execution_count": null,
   "id": "10ded06b-16f4-4b35-98ae-9d7646550292",
   "metadata": {
    "deletable": false,
    "editable": false,
    "nbgrader": {
     "cell_type": "code",
     "checksum": "663e6e3790cc0c6df949296ffabec95b",
     "grade": true,
     "grade_id": "cell-4eae73a2b42409b9",
     "locked": true,
     "points": 1,
     "schema_version": 3,
     "solution": false,
     "task": false
    },
    "tags": []
   },
   "outputs": [],
   "source": []
  },
  {
   "cell_type": "markdown",
   "id": "919f6951",
   "metadata": {
    "deletable": false,
    "editable": false,
    "nbgrader": {
     "cell_type": "markdown",
     "checksum": "46724ee1805a2558a674a39fc74ef91a",
     "grade": false,
     "grade_id": "cell-5ac2b6b6df54d4a2",
     "locked": true,
     "schema_version": 3,
     "solution": false,
     "task": false
    },
    "tags": []
   },
   "source": [
    "### Task 3.4* (Bonus)\n",
    "Build another parameter grid for a GridSearch, but now for a Random Forest. Store it in the variable `gs_param_rfc`. Apply the following configurations:\n",
    "- For the number of trees (`n_estimators`) use the values: **100, 500, 1000**.\n",
    "- For `max_features` use the values: **2, 4, 8**.\n",
    "- For the `max_depth` use the values: **None, 4, 10, 16, 20**.\n",
    "- Again, use for the categorical `SimpleImputer()` **most_frequent** and **constant** as `strategy`. In constant mode, set the `fill_value` to **\"other\"**.\n",
    "\n",
    "Do not forget to create a new pipeline called `pip_rfc` with the `RFC` as classifier. Also, use the `random_state=12` for the `RFC`."
   ]
  },
  {
   "cell_type": "code",
   "execution_count": 71,
   "id": "95ddeef3",
   "metadata": {
    "deletable": false,
    "nbgrader": {
     "cell_type": "code",
     "checksum": "9119efcf6fdcbb75b11b8ddab990e206",
     "grade": false,
     "grade_id": "cell-9748f72ae850bdbf",
     "locked": false,
     "schema_version": 3,
     "solution": true,
     "task": false
    },
    "tags": []
   },
   "outputs": [],
   "source": [
    "from sklearn.ensemble import RandomForestClassifier as RFC\n",
    "# YOUR CODE HERE\n",
    "pip_rfc = Pipeline([('ct', ct), ('classifier', RFC(random_state=12))])\n",
    "\n",
    "gs_param_rfc=[ \n",
    "    {\n",
    "        'ct__cat_preprocessing__cat_imp__strategy': ['most_frequent'],\n",
    "        'classifier__n_estimators': [100, 500, 1000],\n",
    "        'classifier__max_depth': [None, 4, 10, 16, 20],\n",
    "        'classifier__max_features': [2, 4, 8]\n",
    "    },\n",
    "    {\n",
    "        'ct__cat_preprocessing__cat_imp__strategy': ['constant'],\n",
    "        'ct__cat_preprocessing__cat_imp__fill_value': ['other'],\n",
    "        'classifier__n_estimators': [100, 500, 1000],\n",
    "        'classifier__max_depth': [None, 4, 10, 16, 20],\n",
    "        'classifier__max_features': [2, 4, 8]\n",
    "    }]"
   ]
  },
  {
   "cell_type": "code",
   "execution_count": null,
   "id": "19521f19",
   "metadata": {
    "deletable": false,
    "editable": false,
    "nbgrader": {
     "cell_type": "code",
     "checksum": "082eb8adfe1423478497a5041a016dcb",
     "grade": true,
     "grade_id": "cell-adf12fab4b7b6cc5",
     "locked": true,
     "points": 4,
     "schema_version": 3,
     "solution": false,
     "task": false
    },
    "tags": []
   },
   "outputs": [],
   "source": []
  },
  {
   "cell_type": "markdown",
   "id": "73604a51",
   "metadata": {
    "deletable": false,
    "editable": false,
    "nbgrader": {
     "cell_type": "markdown",
     "checksum": "0c886a617b466dea682fcec83fb13fd3",
     "grade": false,
     "grade_id": "cell-afda3722714820ce",
     "locked": true,
     "schema_version": 3,
     "solution": false,
     "task": false
    },
    "tags": []
   },
   "source": [
    "### Task 3.5* (Bonus)\n",
    "Build the `GridSearchCV` for the `RFC`. Use your parameter grid from task 3.5*. For the cross-validation, use `StratifiedKFold()` validation with **5** splits, set the `random_state` to **10** and **enable** the shuffling. To have access to the best model later, set `refit` to **True**. Store the grid search object in `gs_rfc`."
   ]
  },
  {
   "cell_type": "code",
   "execution_count": 72,
   "id": "8e217b4d",
   "metadata": {
    "deletable": false,
    "nbgrader": {
     "cell_type": "code",
     "checksum": "db30f36de5a25425782dc9700fcf62be",
     "grade": false,
     "grade_id": "cell-2433964cb602f798",
     "locked": false,
     "schema_version": 3,
     "solution": true,
     "task": false
    },
    "tags": []
   },
   "outputs": [],
   "source": [
    "# YOUR CODE HERE\n",
    "cv = StratifiedKFold(n_splits=5, shuffle=True, random_state=10)\n",
    "\n",
    "# Create the GridSearchCV object\n",
    "gs_rfc = GridSearchCV(pip_rfc, gs_param_rfc, cv=cv, refit=True)"
   ]
  },
  {
   "cell_type": "code",
   "execution_count": null,
   "id": "3260eb99",
   "metadata": {
    "deletable": false,
    "editable": false,
    "nbgrader": {
     "cell_type": "code",
     "checksum": "4d4c2c776e4e60393fbfbea43e6a3e4a",
     "grade": true,
     "grade_id": "cell-4cb34a3a888fb407",
     "locked": true,
     "points": 1,
     "schema_version": 3,
     "solution": false,
     "task": false
    },
    "tags": []
   },
   "outputs": [],
   "source": []
  },
  {
   "cell_type": "code",
   "execution_count": null,
   "id": "13433f5a",
   "metadata": {
    "deletable": false,
    "editable": false,
    "nbgrader": {
     "cell_type": "code",
     "checksum": "8787bf371546cb4475f6bbf1333e2603",
     "grade": true,
     "grade_id": "cell-7ceb20c2474a3af0",
     "locked": true,
     "points": 1,
     "schema_version": 3,
     "solution": false,
     "task": false
    },
    "tags": []
   },
   "outputs": [],
   "source": []
  },
  {
   "cell_type": "markdown",
   "id": "fbce173c",
   "metadata": {
    "deletable": false,
    "editable": false,
    "nbgrader": {
     "cell_type": "markdown",
     "checksum": "cfbebd7939c5bf1abfb44d129cf3257c",
     "grade": false,
     "grade_id": "cell-5a3b639f7e9a94c7",
     "locked": true,
     "schema_version": 3,
     "solution": false,
     "task": false
    },
    "tags": []
   },
   "source": [
    "### Task 3.6* (Bonus)\n",
    "Once again, fit the grid search using `X_train` and `y_train`. Use your grid search object `gs_rfc`."
   ]
  },
  {
   "cell_type": "code",
   "execution_count": 73,
   "id": "ed012acb",
   "metadata": {
    "deletable": false,
    "nbgrader": {
     "cell_type": "code",
     "checksum": "b30f0b00d035b009851b64d70ef26cec",
     "grade": false,
     "grade_id": "cell-f8b9d3cb6592b5e5",
     "locked": false,
     "schema_version": 3,
     "solution": true,
     "task": false
    },
    "tags": []
   },
   "outputs": [
    {
     "name": "stdout",
     "output_type": "stream",
     "text": [
      "\n",
      "Accuracy on the train set: 1.0\n",
      "Balanced Accuracy on the test set: 0.7264150943396226\n",
      "\n",
      "{'classifier__max_depth': 20, 'classifier__max_features': 2, 'classifier__n_estimators': 100, 'ct__cat_preprocessing__cat_imp__fill_value': 'other', 'ct__cat_preprocessing__cat_imp__strategy': 'constant'}\n"
     ]
    }
   ],
   "source": [
    "# YOUR CODE HERE\n",
    "gs_rfc.fit(X_train, y_train.values.ravel())\n",
    "\n",
    "\n",
    "acc_train_rfc = gs_rfc.best_estimator_.score(X_train, y_train)\n",
    "acc_test_rfc = gs_rfc.best_estimator_.score(X_test, y_test)\n",
    "\n",
    "print(f\"\\nAccuracy on the train set: {acc_train_rfc}\")\n",
    "print(f\"Balanced Accuracy on the test set: {acc_test_rfc}\\n\")\n",
    "print(gs_rfc.best_params_)"
   ]
  },
  {
   "cell_type": "code",
   "execution_count": null,
   "id": "17add0b3",
   "metadata": {
    "deletable": false,
    "editable": false,
    "nbgrader": {
     "cell_type": "code",
     "checksum": "b45b837c961b0eb95f227bd52c10bdf8",
     "grade": true,
     "grade_id": "cell-504a910600c7c3a0",
     "locked": true,
     "points": 1,
     "schema_version": 3,
     "solution": false,
     "task": false
    },
    "tags": []
   },
   "outputs": [],
   "source": []
  },
  {
   "cell_type": "code",
   "execution_count": null,
   "id": "7645fac0",
   "metadata": {
    "deletable": false,
    "editable": false,
    "nbgrader": {
     "cell_type": "code",
     "checksum": "66b24080351f00bac8d217cd15b3b073",
     "grade": true,
     "grade_id": "cell-71ce0d202b084401",
     "locked": true,
     "points": 0,
     "schema_version": 3,
     "solution": false,
     "task": false
    },
    "tags": []
   },
   "outputs": [],
   "source": []
  },
  {
   "cell_type": "markdown",
   "id": "6a2c8ea4-b6e5-426f-b847-44e913301e84",
   "metadata": {
    "deletable": false,
    "editable": false,
    "nbgrader": {
     "cell_type": "markdown",
     "checksum": "122f24ef8391046fcebc257305be020f",
     "grade": false,
     "grade_id": "cell-45b674638e18001f",
     "locked": true,
     "schema_version": 3,
     "solution": false,
     "task": false
    },
    "tags": []
   },
   "source": [
    "## Task 4 - Baseline\n",
    "You probably end up with an accuracy of around 71%. But how can you decide if that's good or bad?\n",
    "\n",
    "It's time for building a dummy classifier to set a benchmark."
   ]
  },
  {
   "cell_type": "markdown",
   "id": "caf9bf25-81dc-477d-be52-8fc42ece33c5",
   "metadata": {
    "deletable": false,
    "editable": false,
    "nbgrader": {
     "cell_type": "markdown",
     "checksum": "b6688113b20cbff0405838193e6bcc2d",
     "grade": false,
     "grade_id": "cell-40189c0099c09f72",
     "locked": true,
     "schema_version": 3,
     "solution": false,
     "task": false
    }
   },
   "source": [
    "### Task 4.1\n",
    "Instanciate a `DummyClassifier()` object provided by sklearn and assign it to the variable `dc`. With its default settings it will always return the same label, which is the one that is most common in the training data. Build a new pipeline `pip_dummy`. For the first step use the column tansformer from our fitted best estimator, you can access it using the `named_steps` property of `gs.best_estimator_`. Name it again *\"ct\"*. For the second step use the instanciated dummy classifier and name it *\"classifier\"*."
   ]
  },
  {
   "cell_type": "code",
   "execution_count": 82,
   "id": "3ea8a173-dcb7-488b-b199-e72ffaf2b790",
   "metadata": {
    "deletable": false,
    "nbgrader": {
     "cell_type": "code",
     "checksum": "e972cda6a20fd76f515efbb26725bd8f",
     "grade": false,
     "grade_id": "cell-36c0004b11cb9310",
     "locked": false,
     "schema_version": 3,
     "solution": true,
     "task": false
    },
    "tags": []
   },
   "outputs": [],
   "source": [
    "# YOUR CODE HERE\n",
    "from sklearn.dummy import DummyClassifier\n",
    "\n",
    "# Instantiate a DummyClassifier object\n",
    "dc = DummyClassifier()\n",
    "\n",
    "# Access the column transformer from the fitted best estimator\n",
    "ct = gs.best_estimator_.named_steps['ct']\n",
    "\n",
    "# Create a new pipeline with the column transformer and dummy classifier\n",
    "pip_dummy = Pipeline([\n",
    "    ('ct', ct),\n",
    "    ('classifier', dc)\n",
    "])"
   ]
  },
  {
   "cell_type": "code",
   "execution_count": null,
   "id": "5e831d1e-cd27-4cca-80b5-21768295481e",
   "metadata": {
    "deletable": false,
    "editable": false,
    "nbgrader": {
     "cell_type": "code",
     "checksum": "19f030b478057b31556862a31512639f",
     "grade": true,
     "grade_id": "cell-bf8b849c18d2b8ce",
     "locked": true,
     "points": 1,
     "schema_version": 3,
     "solution": false,
     "task": false
    },
    "tags": []
   },
   "outputs": [],
   "source": []
  },
  {
   "cell_type": "markdown",
   "id": "6f1c9c5a-cb5b-42f5-9dc8-8c520fd1a2ef",
   "metadata": {
    "deletable": false,
    "editable": false,
    "nbgrader": {
     "cell_type": "markdown",
     "checksum": "34ffe31ef4d51e8cbce7dab4e5d98260",
     "grade": false,
     "grade_id": "cell-a48be01cc871a426",
     "locked": true,
     "schema_version": 3,
     "solution": false,
     "task": false
    }
   },
   "source": [
    "### Task 4.2\n",
    "Now fit the new dummy pipeline on the training data `X_train` and `y_train`."
   ]
  },
  {
   "cell_type": "code",
   "execution_count": 83,
   "id": "920dcc54-569b-4752-a83a-fbb0e5e4fbdd",
   "metadata": {
    "deletable": false,
    "nbgrader": {
     "cell_type": "code",
     "checksum": "434188105198843df98cc1632c427928",
     "grade": false,
     "grade_id": "cell-da88d0f3a0dd7e89",
     "locked": false,
     "schema_version": 3,
     "solution": true,
     "task": false
    },
    "tags": []
   },
   "outputs": [
    {
     "name": "stdout",
     "output_type": "stream",
     "text": [
      "\n",
      "Accuracy on the train set: 0.6971544715447154\n",
      "Accuracy on the test set: 0.7122641509433962\n",
      "\n"
     ]
    }
   ],
   "source": [
    "# YOUR CODE HERE\n",
    "pip_dummy.fit(X_train, y_train)\n",
    "\n",
    "\n",
    "acc_train_dummy = pip_dummy.score(X_train, y_train)\n",
    "acc_test_dummy = pip_dummy.score(X_test, y_test)\n",
    "\n",
    "print(f\"\\nAccuracy on the train set: {acc_train_dummy}\")\n",
    "print(f\"Accuracy on the test set: {acc_test_dummy}\\n\")"
   ]
  },
  {
   "cell_type": "code",
   "execution_count": null,
   "id": "b2e2093e-2e52-450d-93d1-2e61faaf3f91",
   "metadata": {
    "deletable": false,
    "editable": false,
    "nbgrader": {
     "cell_type": "code",
     "checksum": "2e5c18a17cb0e5e87aa1b52bb176fe4b",
     "grade": true,
     "grade_id": "cell-0b0ff36c72e570c4",
     "locked": true,
     "points": 1,
     "schema_version": 3,
     "solution": false,
     "task": false
    },
    "tags": []
   },
   "outputs": [],
   "source": []
  },
  {
   "cell_type": "markdown",
   "id": "7b2bd25d-4b00-48db-ada9-e055112a0429",
   "metadata": {
    "deletable": false,
    "editable": false,
    "nbgrader": {
     "cell_type": "markdown",
     "checksum": "05bbb1c6508339469f90349ecc20edcd",
     "grade": false,
     "grade_id": "cell-573c8d3ec3f3dc43",
     "locked": true,
     "schema_version": 3,
     "solution": false,
     "task": false
    },
    "tags": []
   },
   "source": [
    "### Task 4.3\n",
    "Comparing the accuracy of our dummy classifier and our best SVC estimator from Task 3.3), you will notice an interesting behaviour. To further analyze this, let's have a look at the confusion matrices. Fill the provided subplot-grid in the following order:\n",
    "\n",
    "- upper left plot: dummy classifier on training data\n",
    "- upper right plot: dummy classifier on test data\n",
    "- lower left plot: best estimator classifier on training data\n",
    "- lower right plot: best estimator classifier on test data\n",
    "\n",
    "_HINT: Remember, what is important about plots! titles, labels, scaling, axis..._"
   ]
  },
  {
   "cell_type": "code",
   "execution_count": 91,
   "id": "593ab355-3e0b-48a9-929a-6986cdb147b2",
   "metadata": {
    "deletable": false,
    "nbgrader": {
     "cell_type": "code",
     "checksum": "96a20c6540e0b49874c0bd66d82ada1e",
     "grade": true,
     "grade_id": "cell-e3f48af7839077b5",
     "locked": false,
     "points": 4,
     "schema_version": 3,
     "solution": true,
     "task": false
    },
    "tags": []
   },
   "outputs": [
    {
     "data": {
      "image/png": "[encoded data removed]",
      "text/plain": [
       "<Figure size 1200x800 with 8 Axes>"
      ]
     },
     "metadata": {},
     "output_type": "display_data"
    }
   ],
   "source": [
    "fig, axs = plt.subplots(2, 2, figsize=(12, 8))\n",
    "\n",
    "# YOUR CODE HERE\n",
    "dummy_train_preds = pip_dummy.predict(X_train)\n",
    "dummy_test_preds = pip_dummy.predict(X_test)\n",
    "best_estimator_train_preds = gs.best_estimator_.predict(X_train)\n",
    "best_estimator_test_preds = gs.best_estimator_.predict(X_test)\n",
    "\n",
    "# Compute confusion matrices\n",
    "dummy_train_cm = confusion_matrix(y_train, dummy_train_preds)\n",
    "dummy_test_cm = confusion_matrix(y_test, dummy_test_preds)\n",
    "best_estimator_train_cm = confusion_matrix(y_train, best_estimator_train_preds)\n",
    "best_estimator_test_cm = confusion_matrix(y_test, best_estimator_test_preds)\n",
    "\n",
    "x_lb=['Predicted Negative','Predicted Positive']\n",
    "y_lb=['Actually Negative','Actually Positive']\n",
    "\n",
    "sns.heatmap(dummy_train_cm, annot=True, fmt=\"d\", cmap=\"Blues\", ax=axs[0, 0], xticklabels=x_lb, yticklabels=y_lb)\n",
    "axs[0, 0].set_title(\"Dummy Classifier - Train\")\n",
    "\n",
    "# Upper right plot: Dummy classifier on test data\n",
    "sns.heatmap(dummy_test_cm, annot=True, fmt=\"d\", cmap=\"Blues\", ax=axs[0, 1], xticklabels=x_lb, yticklabels=y_lb)\n",
    "axs[0, 1].set_title(\"Dummy Classifier - Test\")\n",
    "\n",
    "# Lower left plot: Best estimator classifier on training data\n",
    "sns.heatmap(best_estimator_train_cm, annot=True, fmt=\"d\", cmap=\"Blues\", ax=axs[1, 0], xticklabels=x_lb, yticklabels=y_lb)\n",
    "axs[1, 0].set_title(\"Best Estimator - Train\")\n",
    "\n",
    "# Lower right plot: Best estimator classifier on test data\n",
    "sns.heatmap(best_estimator_test_cm, annot=True, fmt=\"d\", cmap=\"Blues\", ax=axs[1, 1], xticklabels=x_lb, yticklabels=y_lb)\n",
    "axs[1, 1].set_title(\"Best Estimator - Test\")\n",
    "\n",
    "plt.show()"
   ]
  },
  {
   "cell_type": "markdown",
   "id": "70a00bdc-9cef-4abc-9aed-a32ab98a0b7a",
   "metadata": {
    "deletable": false,
    "editable": false,
    "nbgrader": {
     "cell_type": "markdown",
     "checksum": "e11e681d6d44895f8ac7d5d8b990eac3",
     "grade": false,
     "grade_id": "cell-c3ad4406bb44a030",
     "locked": true,
     "schema_version": 3,
     "solution": false,
     "task": false
    },
    "tags": []
   },
   "source": [
    "### Task 4.4\n",
    "Describe what problem/interesting behaviour you observe. What could be the reason? How could you overcome these issues and improve the best estimator?"
   ]
  },
  {
   "cell_type": "markdown",
   "id": "e5a3f58c-2ca7-4c07-becf-a9c49ee2e053",
   "metadata": {
    "deletable": false,
    "nbgrader": {
     "cell_type": "markdown",
     "checksum": "d4e8be0e308a101eff44eaacf68952b5",
     "grade": true,
     "grade_id": "cell-91b1697cb99dc76e",
     "locked": false,
     "points": 2,
     "schema_version": 3,
     "solution": true,
     "task": false
    },
    "tags": []
   },
   "source": [
    "YOUR ANSWER HERE\n"
   ]
  },
  {
   "cell_type": "markdown",
   "id": "df564ddf-caac-481d-90a6-7eb774aba555",
   "metadata": {
    "deletable": false,
    "editable": false,
    "nbgrader": {
     "cell_type": "markdown",
     "checksum": "1817a620786d3fcfe70780996a354a45",
     "grade": false,
     "grade_id": "cell-f8ae73067797701f",
     "locked": true,
     "schema_version": 3,
     "solution": false,
     "task": false
    },
    "tags": []
   },
   "source": [
    "### Task 4.5\n",
    "Compute the `balanced_accuracy_score()` metric for train and test sets for the best SVC pipeline from your grid-search in Task 3.3) and store the result to the variables `bacc_train` and `bacc_test`. Further compute the balanced accuracy for the dummy classifier and assign the results to `bacc_train_dummy` and `bacc_test_dummy`!"
   ]
  },
  {
   "cell_type": "code",
   "execution_count": 93,
   "id": "7f29b824-66dd-4c48-bb13-fb3177571946",
   "metadata": {
    "deletable": false,
    "nbgrader": {
     "cell_type": "code",
     "checksum": "e1bb7bed3bf795374ec45797655c676d",
     "grade": false,
     "grade_id": "cell-95056e063c9c90e5",
     "locked": false,
     "schema_version": 3,
     "solution": true,
     "task": false
    },
    "tags": []
   },
   "outputs": [
    {
     "name": "stdout",
     "output_type": "stream",
     "text": [
      "\n",
      "Balanced Accuracy on the train set best SVC: 0.799538223726691 | Accuracy on the train set best SVC: 0.8739837398373984\n",
      "Balanced Accuracy on the test set best SVC: 0.5390837042666377 | Accuracy on the test set best SVC: 0.7122641509433962\n",
      "\n",
      "Balanced Accuracy on the train set Dummy: 0.5 | Accuracy on the train set Dummy: 0.6971544715447154\n",
      "Balanced Accuracy on the test set Dummy: 0.5 | Accuracy on the test set Dummy: 0.7122641509433962\n"
     ]
    }
   ],
   "source": [
    "# YOUR CODE HERE\n",
    "bacc_train_dummy = balanced_accuracy_score(y_train, pip_dummy.predict(X_train))\n",
    "bacc_test_dummy = balanced_accuracy_score(y_test, pip_dummy.predict(X_test))\n",
    "bacc_train = balanced_accuracy_score(y_train, gs.best_estimator_.predict(X_train))\n",
    "bacc_test = balanced_accuracy_score(y_test, gs.best_estimator_.predict(X_test))\n",
    "\n",
    "print(f\"\\nBalanced Accuracy on the train set best SVC: {bacc_train}\", f\"| Accuracy on the train set best SVC: {acc_train}\")\n",
    "print(f\"Balanced Accuracy on the test set best SVC: {bacc_test}\", f\"| Accuracy on the test set best SVC: {acc_test}\")\n",
    "print(f\"\\nBalanced Accuracy on the train set Dummy: {bacc_train_dummy}\", f\"| Accuracy on the train set Dummy: {acc_train_dummy}\")\n",
    "print(f\"Balanced Accuracy on the test set Dummy: {bacc_test_dummy}\", f\"| Accuracy on the test set Dummy: {acc_test_dummy}\")"
   ]
  },
  {
   "cell_type": "code",
   "execution_count": null,
   "id": "eee53c6e-0481-46f5-afce-6d72a498352c",
   "metadata": {
    "deletable": false,
    "editable": false,
    "nbgrader": {
     "cell_type": "code",
     "checksum": "4c028ff5c68408cbcc3dd1b4b087a734",
     "grade": true,
     "grade_id": "cell-29ac0a1bb0902111",
     "locked": true,
     "points": 1,
     "schema_version": 3,
     "solution": false,
     "task": false
    },
    "tags": []
   },
   "outputs": [],
   "source": []
  },
  {
   "cell_type": "markdown",
   "id": "cebcd519-2baa-4b2f-80b9-c6a7d8d85e57",
   "metadata": {
    "deletable": false,
    "editable": false,
    "nbgrader": {
     "cell_type": "markdown",
     "checksum": "17a3a249586d1558333845d3017b2dd0",
     "grade": false,
     "grade_id": "cell-859a06ceb16a9c65",
     "locked": true,
     "schema_version": 3,
     "solution": false,
     "task": false
    },
    "tags": []
   },
   "source": [
    "## Task 5 - Oversampling\n",
    "\n",
    "Random oversampling is a simple technique where we create random duplicates of the instances of the underrepresented class in an imbalanced data set. But, be careful with these kind of methods since overfitting might occur.<br>\n",
    "In the following task you will investigate the potential improvement (or setback?) of the `RandomOverSampler()`. The `RandomOverSampler()` is part of the *imblearn* package. \n",
    "\n",
    "### Task 5.1\n",
    "\n",
    "Instantiate a `RandomOverSampler()` object, use the variable name `ros`. Use the oversampling to create an altered version of the original training set. Store the new training data to `X_train_ros` and `y_train_ros`."
   ]
  },
  {
   "cell_type": "code",
   "execution_count": 99,
   "id": "60e0dde5-9330-4948-9d77-82468f6d19f3",
   "metadata": {
    "deletable": false,
    "nbgrader": {
     "cell_type": "code",
     "checksum": "5bca9a11c50f2273ae0251297e934333",
     "grade": false,
     "grade_id": "cell-1aa4da8a9e5d7543",
     "locked": false,
     "schema_version": 3,
     "solution": true,
     "task": false
    },
    "tags": []
   },
   "outputs": [],
   "source": [
    "# YOUR CODE HERE\n",
    "ros = RandomOverSampler()\n",
    "X_train_ros, y_train_ros = ros.fit_resample(X_train, y_train)"
   ]
  },
  {
   "cell_type": "code",
   "execution_count": null,
   "id": "28859077-ac93-4e8c-8769-145f5c6c3693",
   "metadata": {
    "deletable": false,
    "editable": false,
    "nbgrader": {
     "cell_type": "code",
     "checksum": "a713d6e92b9f7038fbf4fbd3f28e7b2a",
     "grade": true,
     "grade_id": "cell-1592b45545729366",
     "locked": true,
     "points": 1,
     "schema_version": 3,
     "solution": false,
     "task": false
    },
    "tags": []
   },
   "outputs": [],
   "source": []
  },
  {
   "cell_type": "markdown",
   "id": "30af25c2-d2e7-4ba8-99d1-0221ddd1ec25",
   "metadata": {
    "deletable": false,
    "editable": false,
    "nbgrader": {
     "cell_type": "markdown",
     "checksum": "5d2959e970a92d3d7b143927b5a28a18",
     "grade": false,
     "grade_id": "cell-c31449d2ffe6223e",
     "locked": true,
     "schema_version": 3,
     "solution": false,
     "task": false
    },
    "tags": []
   },
   "source": [
    "### Task 5.2\n",
    "Use again your best SVC pipeline model from Task 3.3) copy it to a new variable called `clf_ros` and fit it to the new training set!<br>\n",
    "_Hint: Take care that you do not overwrite your best SVC model from 3.3)! You might use sklearn's `clone()` function to clone your best SVC before fitting it to the new training data!_"
   ]
  },
  {
   "cell_type": "code",
   "execution_count": 100,
   "id": "f606c680-b0f3-4ab3-97ae-ceded90367f2",
   "metadata": {
    "deletable": false,
    "nbgrader": {
     "cell_type": "code",
     "checksum": "c18b54708da1dd8b9c31dc3a2b7f6c71",
     "grade": false,
     "grade_id": "cell-8294a7de356d463b",
     "locked": false,
     "schema_version": 3,
     "solution": true,
     "task": false
    },
    "tags": []
   },
   "outputs": [
    {
     "data": {
      "text/html": [
       "<style>#sk-container-id-2 {color: black;background-color: white;}#sk-container-id-2 pre{padding: 0;}#sk-container-id-2 div.sk-toggleable {background-color: white;}#sk-container-id-2 label.sk-toggleable__label {cursor: pointer;display: block;width: 100%;margin-bottom: 0;padding: 0.3em;box-sizing: border-box;text-align: center;}#sk-container-id-2 label.sk-toggleable__label-arrow:before {content: \"▸\";float: left;margin-right: 0.25em;color: #696969;}#sk-container-id-2 label.sk-toggleable__label-arrow:hover:before {color: black;}#sk-container-id-2 div.sk-estimator:hover label.sk-toggleable__label-arrow:before {color: black;}#sk-container-id-2 div.sk-toggleable__content {max-height: 0;max-width: 0;overflow: hidden;text-align: left;background-color: #f0f8ff;}#sk-container-id-2 div.sk-toggleable__content pre {margin: 0.2em;color: black;border-radius: 0.25em;background-color: #f0f8ff;}#sk-container-id-2 input.sk-toggleable__control:checked~div.sk-toggleable__content {max-height: 200px;max-width: 100%;overflow: auto;}#sk-container-id-2 input.sk-toggleable__control:checked~label.sk-toggleable__label-arrow:before {content: \"▾\";}#sk-container-id-2 div.sk-estimator input.sk-toggleable__control:checked~label.sk-toggleable__label {background-color: #d4ebff;}#sk-container-id-2 div.sk-label input.sk-toggleable__control:checked~label.sk-toggleable__label {background-color: #d4ebff;}#sk-container-id-2 input.sk-hidden--visually {border: 0;clip: rect(1px 1px 1px 1px);clip: rect(1px, 1px, 1px, 1px);height: 1px;margin: -1px;overflow: hidden;padding: 0;position: absolute;width: 1px;}#sk-container-id-2 div.sk-estimator {font-family: monospace;background-color: #f0f8ff;border: 1px dotted black;border-radius: 0.25em;box-sizing: border-box;margin-bottom: 0.5em;}#sk-container-id-2 div.sk-estimator:hover {background-color: #d4ebff;}#sk-container-id-2 div.sk-parallel-item::after {content: \"\";width: 100%;border-bottom: 1px solid gray;flex-grow: 1;}#sk-container-id-2 div.sk-label:hover label.sk-toggleable__label {background-color: #d4ebff;}#sk-container-id-2 div.sk-serial::before {content: \"\";position: absolute;border-left: 1px solid gray;box-sizing: border-box;top: 0;bottom: 0;left: 50%;z-index: 0;}#sk-container-id-2 div.sk-serial {display: flex;flex-direction: column;align-items: center;background-color: white;padding-right: 0.2em;padding-left: 0.2em;position: relative;}#sk-container-id-2 div.sk-item {position: relative;z-index: 1;}#sk-container-id-2 div.sk-parallel {display: flex;align-items: stretch;justify-content: center;background-color: white;position: relative;}#sk-container-id-2 div.sk-item::before, #sk-container-id-2 div.sk-parallel-item::before {content: \"\";position: absolute;border-left: 1px solid gray;box-sizing: border-box;top: 0;bottom: 0;left: 50%;z-index: -1;}#sk-container-id-2 div.sk-parallel-item {display: flex;flex-direction: column;z-index: 1;position: relative;background-color: white;}#sk-container-id-2 div.sk-parallel-item:first-child::after {align-self: flex-end;width: 50%;}#sk-container-id-2 div.sk-parallel-item:last-child::after {align-self: flex-start;width: 50%;}#sk-container-id-2 div.sk-parallel-item:only-child::after {width: 0;}#sk-container-id-2 div.sk-dashed-wrapped {border: 1px dashed gray;margin: 0 0.4em 0.5em 0.4em;box-sizing: border-box;padding-bottom: 0.4em;background-color: white;}#sk-container-id-2 div.sk-label label {font-family: monospace;font-weight: bold;display: inline-block;line-height: 1.2em;}#sk-container-id-2 div.sk-label-container {text-align: center;}#sk-container-id-2 div.sk-container {/* jupyter's `normalize.less` sets `[hidden] { display: none; }` but bootstrap.min.css set `[hidden] { display: none !important; }` so we also need the `!important` here to be able to override the default hidden behavior on the sphinx rendered scikit-learn.org. See: https://github.com/scikit-learn/scikit-learn/issues/21755 */display: inline-block !important;position: relative;}#sk-container-id-2 div.sk-text-repr-fallback {display: none;}</style><div id=\"sk-container-id-2\" class=\"sk-top-container\"><div class=\"sk-text-repr-fallback\"><pre>Pipeline(steps=[(&#x27;ct&#x27;,\n",
       "                 ColumnTransformer(transformers=[(&#x27;num_preprocessing&#x27;,\n",
       "                                                  Pipeline(steps=[(&#x27;num_imp&#x27;,\n",
       "                                                                   SimpleImputer()),\n",
       "                                                                  (&#x27;num_sc&#x27;,\n",
       "                                                                   MinMaxScaler())]),\n",
       "                                                  [&#x27;Intelligence&#x27;, &#x27;Strength&#x27;,\n",
       "                                                   &#x27;Speed&#x27;, &#x27;Durability&#x27;,\n",
       "                                                   &#x27;Power&#x27;, &#x27;Combat&#x27;, &#x27;Height&#x27;,\n",
       "                                                   &#x27;Weight&#x27;, &#x27;Total Power&#x27;]),\n",
       "                                                 (&#x27;cat_preprocessing&#x27;,\n",
       "                                                  Pipeline(steps=[(&#x27;cat_imp&#x27;,\n",
       "                                                                   SimpleImputer(strategy=&#x27;most_frequent&#x27;)),\n",
       "                                                                  (&#x27;cat_enc&#x27;,\n",
       "                                                                   OneHotEncoder(handle_unknown=&#x27;ignore&#x27;,\n",
       "                                                                                 sparse_output=False))]),\n",
       "                                                  [&#x27;Alter Egos&#x27;,\n",
       "                                                   &#x27;Publisher_simple&#x27;, &#x27;Gender&#x27;,\n",
       "                                                   &#x27;Hair color_simple&#x27;,\n",
       "                                                   &#x27;Eye color_simple&#x27;,\n",
       "                                                   &#x27;Race_simple&#x27;])])),\n",
       "                (&#x27;classifier&#x27;, SVC(gamma=0.5, max_iter=1000000))])</pre><b>In a Jupyter environment, please rerun this cell to show the HTML representation or trust the notebook. <br />On GitHub, the HTML representation is unable to render, please try loading this page with nbviewer.org.</b></div><div class=\"sk-container\" hidden><div class=\"sk-item sk-dashed-wrapped\"><div class=\"sk-label-container\"><div class=\"sk-label sk-toggleable\"><input class=\"sk-toggleable__control sk-hidden--visually\" id=\"sk-estimator-id-10\" type=\"checkbox\" ><label for=\"sk-estimator-id-10\" class=\"sk-toggleable__label sk-toggleable__label-arrow\">Pipeline</label><div class=\"sk-toggleable__content\"><pre>Pipeline(steps=[(&#x27;ct&#x27;,\n",
       "                 ColumnTransformer(transformers=[(&#x27;num_preprocessing&#x27;,\n",
       "                                                  Pipeline(steps=[(&#x27;num_imp&#x27;,\n",
       "                                                                   SimpleImputer()),\n",
       "                                                                  (&#x27;num_sc&#x27;,\n",
       "                                                                   MinMaxScaler())]),\n",
       "                                                  [&#x27;Intelligence&#x27;, &#x27;Strength&#x27;,\n",
       "                                                   &#x27;Speed&#x27;, &#x27;Durability&#x27;,\n",
       "                                                   &#x27;Power&#x27;, &#x27;Combat&#x27;, &#x27;Height&#x27;,\n",
       "                                                   &#x27;Weight&#x27;, &#x27;Total Power&#x27;]),\n",
       "                                                 (&#x27;cat_preprocessing&#x27;,\n",
       "                                                  Pipeline(steps=[(&#x27;cat_imp&#x27;,\n",
       "                                                                   SimpleImputer(strategy=&#x27;most_frequent&#x27;)),\n",
       "                                                                  (&#x27;cat_enc&#x27;,\n",
       "                                                                   OneHotEncoder(handle_unknown=&#x27;ignore&#x27;,\n",
       "                                                                                 sparse_output=False))]),\n",
       "                                                  [&#x27;Alter Egos&#x27;,\n",
       "                                                   &#x27;Publisher_simple&#x27;, &#x27;Gender&#x27;,\n",
       "                                                   &#x27;Hair color_simple&#x27;,\n",
       "                                                   &#x27;Eye color_simple&#x27;,\n",
       "                                                   &#x27;Race_simple&#x27;])])),\n",
       "                (&#x27;classifier&#x27;, SVC(gamma=0.5, max_iter=1000000))])</pre></div></div></div><div class=\"sk-serial\"><div class=\"sk-item sk-dashed-wrapped\"><div class=\"sk-label-container\"><div class=\"sk-label sk-toggleable\"><input class=\"sk-toggleable__control sk-hidden--visually\" id=\"sk-estimator-id-11\" type=\"checkbox\" ><label for=\"sk-estimator-id-11\" class=\"sk-toggleable__label sk-toggleable__label-arrow\">ct: ColumnTransformer</label><div class=\"sk-toggleable__content\"><pre>ColumnTransformer(transformers=[(&#x27;num_preprocessing&#x27;,\n",
       "                                 Pipeline(steps=[(&#x27;num_imp&#x27;, SimpleImputer()),\n",
       "                                                 (&#x27;num_sc&#x27;, MinMaxScaler())]),\n",
       "                                 [&#x27;Intelligence&#x27;, &#x27;Strength&#x27;, &#x27;Speed&#x27;,\n",
       "                                  &#x27;Durability&#x27;, &#x27;Power&#x27;, &#x27;Combat&#x27;, &#x27;Height&#x27;,\n",
       "                                  &#x27;Weight&#x27;, &#x27;Total Power&#x27;]),\n",
       "                                (&#x27;cat_preprocessing&#x27;,\n",
       "                                 Pipeline(steps=[(&#x27;cat_imp&#x27;,\n",
       "                                                  SimpleImputer(strategy=&#x27;most_frequent&#x27;)),\n",
       "                                                 (&#x27;cat_enc&#x27;,\n",
       "                                                  OneHotEncoder(handle_unknown=&#x27;ignore&#x27;,\n",
       "                                                                sparse_output=False))]),\n",
       "                                 [&#x27;Alter Egos&#x27;, &#x27;Publisher_simple&#x27;, &#x27;Gender&#x27;,\n",
       "                                  &#x27;Hair color_simple&#x27;, &#x27;Eye color_simple&#x27;,\n",
       "                                  &#x27;Race_simple&#x27;])])</pre></div></div></div><div class=\"sk-parallel\"><div class=\"sk-parallel-item\"><div class=\"sk-item\"><div class=\"sk-label-container\"><div class=\"sk-label sk-toggleable\"><input class=\"sk-toggleable__control sk-hidden--visually\" id=\"sk-estimator-id-12\" type=\"checkbox\" ><label for=\"sk-estimator-id-12\" class=\"sk-toggleable__label sk-toggleable__label-arrow\">num_preprocessing</label><div class=\"sk-toggleable__content\"><pre>[&#x27;Intelligence&#x27;, &#x27;Strength&#x27;, &#x27;Speed&#x27;, &#x27;Durability&#x27;, &#x27;Power&#x27;, &#x27;Combat&#x27;, &#x27;Height&#x27;, &#x27;Weight&#x27;, &#x27;Total Power&#x27;]</pre></div></div></div><div class=\"sk-serial\"><div class=\"sk-item\"><div class=\"sk-serial\"><div class=\"sk-item\"><div class=\"sk-estimator sk-toggleable\"><input class=\"sk-toggleable__control sk-hidden--visually\" id=\"sk-estimator-id-13\" type=\"checkbox\" ><label for=\"sk-estimator-id-13\" class=\"sk-toggleable__label sk-toggleable__label-arrow\">SimpleImputer</label><div class=\"sk-toggleable__content\"><pre>SimpleImputer()</pre></div></div></div><div class=\"sk-item\"><div class=\"sk-estimator sk-toggleable\"><input class=\"sk-toggleable__control sk-hidden--visually\" id=\"sk-estimator-id-14\" type=\"checkbox\" ><label for=\"sk-estimator-id-14\" class=\"sk-toggleable__label sk-toggleable__label-arrow\">MinMaxScaler</label><div class=\"sk-toggleable__content\"><pre>MinMaxScaler()</pre></div></div></div></div></div></div></div></div><div class=\"sk-parallel-item\"><div class=\"sk-item\"><div class=\"sk-label-container\"><div class=\"sk-label sk-toggleable\"><input class=\"sk-toggleable__control sk-hidden--visually\" id=\"sk-estimator-id-15\" type=\"checkbox\" ><label for=\"sk-estimator-id-15\" class=\"sk-toggleable__label sk-toggleable__label-arrow\">cat_preprocessing</label><div class=\"sk-toggleable__content\"><pre>[&#x27;Alter Egos&#x27;, &#x27;Publisher_simple&#x27;, &#x27;Gender&#x27;, &#x27;Hair color_simple&#x27;, &#x27;Eye color_simple&#x27;, &#x27;Race_simple&#x27;]</pre></div></div></div><div class=\"sk-serial\"><div class=\"sk-item\"><div class=\"sk-serial\"><div class=\"sk-item\"><div class=\"sk-estimator sk-toggleable\"><input class=\"sk-toggleable__control sk-hidden--visually\" id=\"sk-estimator-id-16\" type=\"checkbox\" ><label for=\"sk-estimator-id-16\" class=\"sk-toggleable__label sk-toggleable__label-arrow\">SimpleImputer</label><div class=\"sk-toggleable__content\"><pre>SimpleImputer(strategy=&#x27;most_frequent&#x27;)</pre></div></div></div><div class=\"sk-item\"><div class=\"sk-estimator sk-toggleable\"><input class=\"sk-toggleable__control sk-hidden--visually\" id=\"sk-estimator-id-17\" type=\"checkbox\" ><label for=\"sk-estimator-id-17\" class=\"sk-toggleable__label sk-toggleable__label-arrow\">OneHotEncoder</label><div class=\"sk-toggleable__content\"><pre>OneHotEncoder(handle_unknown=&#x27;ignore&#x27;, sparse_output=False)</pre></div></div></div></div></div></div></div></div></div></div><div class=\"sk-item\"><div class=\"sk-estimator sk-toggleable\"><input class=\"sk-toggleable__control sk-hidden--visually\" id=\"sk-estimator-id-18\" type=\"checkbox\" ><label for=\"sk-estimator-id-18\" class=\"sk-toggleable__label sk-toggleable__label-arrow\">SVC</label><div class=\"sk-toggleable__content\"><pre>SVC(gamma=0.5, max_iter=1000000)</pre></div></div></div></div></div></div></div>"
      ],
      "text/plain": [
       "Pipeline(steps=[('ct',\n",
       "                 ColumnTransformer(transformers=[('num_preprocessing',\n",
       "                                                  Pipeline(steps=[('num_imp',\n",
       "                                                                   SimpleImputer()),\n",
       "                                                                  ('num_sc',\n",
       "                                                                   MinMaxScaler())]),\n",
       "                                                  ['Intelligence', 'Strength',\n",
       "                                                   'Speed', 'Durability',\n",
       "                                                   'Power', 'Combat', 'Height',\n",
       "                                                   'Weight', 'Total Power']),\n",
       "                                                 ('cat_preprocessing',\n",
       "                                                  Pipeline(steps=[('cat_imp',\n",
       "                                                                   SimpleImputer(strategy='most_frequent')),\n",
       "                                                                  ('cat_enc',\n",
       "                                                                   OneHotEncoder(handle_unknown='ignore',\n",
       "                                                                                 sparse_output=False))]),\n",
       "                                                  ['Alter Egos',\n",
       "                                                   'Publisher_simple', 'Gender',\n",
       "                                                   'Hair color_simple',\n",
       "                                                   'Eye color_simple',\n",
       "                                                   'Race_simple'])])),\n",
       "                ('classifier', SVC(gamma=0.5, max_iter=1000000))])"
      ]
     },
     "execution_count": 100,
     "metadata": {},
     "output_type": "execute_result"
    }
   ],
   "source": [
    "# YOUR CODE HERE\n",
    "clf_ros = clone(gs.best_estimator_)\n",
    "clf_ros.fit(X_train_ros, y_train_ros)"
   ]
  },
  {
   "cell_type": "code",
   "execution_count": null,
   "id": "7ed49ceb-3683-44e1-8a07-79ae79417e6d",
   "metadata": {
    "deletable": false,
    "editable": false,
    "nbgrader": {
     "cell_type": "code",
     "checksum": "fa9f52588a6f60b469169a42cd5de808",
     "grade": true,
     "grade_id": "cell-69f9cc11530f6339",
     "locked": true,
     "points": 1,
     "schema_version": 3,
     "solution": false,
     "task": false
    },
    "tags": []
   },
   "outputs": [],
   "source": []
  },
  {
   "cell_type": "markdown",
   "id": "547537c4-d96a-4cde-bf7c-e01d1639c7ce",
   "metadata": {
    "deletable": false,
    "editable": false,
    "nbgrader": {
     "cell_type": "markdown",
     "checksum": "b46dd0a802a4532e5c4c7d7c902bb23d",
     "grade": false,
     "grade_id": "cell-cfff945d827cc79d",
     "locked": true,
     "schema_version": 3,
     "solution": false,
     "task": false
    },
    "tags": []
   },
   "source": [
    "### Task 5.3\n",
    "Compute the `accuracy_score()` as well as the `balanced_accuracy_score()` metric for the new training set and the original test set using the freshly fitted `clf_ros` classifier from task 5.2 and store the result to the variables `acc_train_ros` and `acc_test_ros` as well as `bacc_train_ros` and `bacc_test_ros`."
   ]
  },
  {
   "cell_type": "code",
   "execution_count": 105,
   "id": "1ffd1723-a17d-424a-a574-fafebe4f2140",
   "metadata": {
    "deletable": false,
    "nbgrader": {
     "cell_type": "code",
     "checksum": "630b2f8cc88cdff07dee70950e1c59cd",
     "grade": false,
     "grade_id": "cell-85becfac7a160404",
     "locked": false,
     "schema_version": 3,
     "solution": true,
     "task": false
    },
    "tags": []
   },
   "outputs": [
    {
     "name": "stdout",
     "output_type": "stream",
     "text": [
      "\n",
      "Balanced Accuracy on the ros train set: 0.9139941690962099 | Accuracy on the ros train set: 0.9139941690962099\n",
      "Balanced Accuracy on the test set : 0.5182390619910976 | Accuracy on the test: 0.5990566037735849\n"
     ]
    }
   ],
   "source": [
    "# YOUR CODE HERE\n",
    "y_train_ros_pred = clf_ros.predict(X_train_ros)\n",
    "y_test_pred = clf_ros.predict(X_test)\n",
    "\n",
    "acc_train_ros = clf_ros.score(X_train_ros, y_train_ros)\n",
    "acc_test_ros = clf_ros.score(X_test, y_test)\n",
    "\n",
    "bacc_train_ros = balanced_accuracy_score(y_train_ros, y_train_ros_pred)\n",
    "bacc_test_ros = balanced_accuracy_score(y_test, y_test_pred)\n",
    "\n",
    "print(f\"\\nBalanced Accuracy on the ros train set: {bacc_train_ros}\", f\"| Accuracy on the ros train set: {acc_train_ros}\")\n",
    "print(f\"Balanced Accuracy on the test set : {bacc_test_ros}\", f\"| Accuracy on the test: {acc_test_ros}\")"
   ]
  },
  {
   "cell_type": "code",
   "execution_count": null,
   "id": "02da5a2d-9875-487b-aeeb-c02e926ad8d6",
   "metadata": {
    "deletable": false,
    "editable": false,
    "nbgrader": {
     "cell_type": "code",
     "checksum": "7c065cc209363470db99314505946533",
     "grade": true,
     "grade_id": "cell-90cfd529397cfc99",
     "locked": true,
     "points": 1,
     "schema_version": 3,
     "solution": false,
     "task": false
    },
    "tags": []
   },
   "outputs": [],
   "source": []
  },
  {
   "cell_type": "markdown",
   "id": "4db6c1af",
   "metadata": {
    "deletable": false,
    "editable": false,
    "nbgrader": {
     "cell_type": "markdown",
     "checksum": "b7d3abbd5bfd8c30f0fbee89d1ae4b53",
     "grade": false,
     "grade_id": "cell-3e4853eab0f383e4",
     "locked": true,
     "schema_version": 3,
     "solution": false,
     "task": false
    },
    "tags": []
   },
   "source": [
    "## Task 6* (Bonus) - Class Weights\n",
    "In task 5 you investigated the strategy of oversampling. Now we will see how the use of class weights will perform.\n",
    "### Task 6.1* (Bonus)\n",
    "Use again the best SVC pipeline from Task 3.3) as a starting point but now aditionally set the parameter `class_weight` of the `SVC()`to **balanced**!\n",
    "Store the resultung pipeline to the variable `clf_w`!<br>\n",
    "_Hint: Once again we will have to refit the model, so take care not to overwrite the original best SVC pipeline!_"
   ]
  },
  {
   "cell_type": "code",
   "execution_count": 108,
   "id": "4adb2d39",
   "metadata": {
    "deletable": false,
    "nbgrader": {
     "cell_type": "code",
     "checksum": "ed034be95d958d92fe1e46f396366251",
     "grade": false,
     "grade_id": "cell-c370f9c0e435bcf7",
     "locked": false,
     "schema_version": 3,
     "solution": true,
     "task": false
    },
    "tags": []
   },
   "outputs": [],
   "source": [
    "# YOUR CODE HERE\n",
    "clf_w = clone(gs.best_estimator_)\n",
    "svc = clf_w.named_steps['classifier']\n",
    "svc.set_params(class_weight='balanced')\n",
    "ct = clf_w.named_steps['ct']\n",
    "clf_w = Pipeline([('ct', ct), ('classifier', svc)])"
   ]
  },
  {
   "cell_type": "code",
   "execution_count": null,
   "id": "27d7bb5f",
   "metadata": {
    "deletable": false,
    "editable": false,
    "nbgrader": {
     "cell_type": "code",
     "checksum": "596f3bc30525e3f4b98751e2ba0c8861",
     "grade": true,
     "grade_id": "cell-d27c9bfe9ab2beac",
     "locked": true,
     "points": 0,
     "schema_version": 3,
     "solution": false,
     "task": false
    },
    "tags": []
   },
   "outputs": [],
   "source": []
  },
  {
   "cell_type": "markdown",
   "id": "07b29a7b",
   "metadata": {
    "deletable": false,
    "editable": false,
    "nbgrader": {
     "cell_type": "markdown",
     "checksum": "237c3f74bc1cb75f6f860b3c83bfceca",
     "grade": false,
     "grade_id": "cell-0adca36eeaddd620",
     "locked": true,
     "schema_version": 3,
     "solution": false,
     "task": false
    },
    "tags": []
   },
   "source": [
    "### Task 6.2* (Bonus)\n",
    "Fit the new pipeline `clf_w` with the original train data (not the oversampled version from Task 5)!"
   ]
  },
  {
   "cell_type": "code",
   "execution_count": 109,
   "id": "05e0304b",
   "metadata": {
    "deletable": false,
    "nbgrader": {
     "cell_type": "code",
     "checksum": "ec34d6def3803200471c6755565f1bb1",
     "grade": false,
     "grade_id": "cell-d2974b2720167778",
     "locked": false,
     "schema_version": 3,
     "solution": true,
     "task": false
    },
    "tags": []
   },
   "outputs": [
    {
     "data": {
      "text/html": [
       "<style>#sk-container-id-3 {color: black;background-color: white;}#sk-container-id-3 pre{padding: 0;}#sk-container-id-3 div.sk-toggleable {background-color: white;}#sk-container-id-3 label.sk-toggleable__label {cursor: pointer;display: block;width: 100%;margin-bottom: 0;padding: 0.3em;box-sizing: border-box;text-align: center;}#sk-container-id-3 label.sk-toggleable__label-arrow:before {content: \"▸\";float: left;margin-right: 0.25em;color: #696969;}#sk-container-id-3 label.sk-toggleable__label-arrow:hover:before {color: black;}#sk-container-id-3 div.sk-estimator:hover label.sk-toggleable__label-arrow:before {color: black;}#sk-container-id-3 div.sk-toggleable__content {max-height: 0;max-width: 0;overflow: hidden;text-align: left;background-color: #f0f8ff;}#sk-container-id-3 div.sk-toggleable__content pre {margin: 0.2em;color: black;border-radius: 0.25em;background-color: #f0f8ff;}#sk-container-id-3 input.sk-toggleable__control:checked~div.sk-toggleable__content {max-height: 200px;max-width: 100%;overflow: auto;}#sk-container-id-3 input.sk-toggleable__control:checked~label.sk-toggleable__label-arrow:before {content: \"▾\";}#sk-container-id-3 div.sk-estimator input.sk-toggleable__control:checked~label.sk-toggleable__label {background-color: #d4ebff;}#sk-container-id-3 div.sk-label input.sk-toggleable__control:checked~label.sk-toggleable__label {background-color: #d4ebff;}#sk-container-id-3 input.sk-hidden--visually {border: 0;clip: rect(1px 1px 1px 1px);clip: rect(1px, 1px, 1px, 1px);height: 1px;margin: -1px;overflow: hidden;padding: 0;position: absolute;width: 1px;}#sk-container-id-3 div.sk-estimator {font-family: monospace;background-color: #f0f8ff;border: 1px dotted black;border-radius: 0.25em;box-sizing: border-box;margin-bottom: 0.5em;}#sk-container-id-3 div.sk-estimator:hover {background-color: #d4ebff;}#sk-container-id-3 div.sk-parallel-item::after {content: \"\";width: 100%;border-bottom: 1px solid gray;flex-grow: 1;}#sk-container-id-3 div.sk-label:hover label.sk-toggleable__label {background-color: #d4ebff;}#sk-container-id-3 div.sk-serial::before {content: \"\";position: absolute;border-left: 1px solid gray;box-sizing: border-box;top: 0;bottom: 0;left: 50%;z-index: 0;}#sk-container-id-3 div.sk-serial {display: flex;flex-direction: column;align-items: center;background-color: white;padding-right: 0.2em;padding-left: 0.2em;position: relative;}#sk-container-id-3 div.sk-item {position: relative;z-index: 1;}#sk-container-id-3 div.sk-parallel {display: flex;align-items: stretch;justify-content: center;background-color: white;position: relative;}#sk-container-id-3 div.sk-item::before, #sk-container-id-3 div.sk-parallel-item::before {content: \"\";position: absolute;border-left: 1px solid gray;box-sizing: border-box;top: 0;bottom: 0;left: 50%;z-index: -1;}#sk-container-id-3 div.sk-parallel-item {display: flex;flex-direction: column;z-index: 1;position: relative;background-color: white;}#sk-container-id-3 div.sk-parallel-item:first-child::after {align-self: flex-end;width: 50%;}#sk-container-id-3 div.sk-parallel-item:last-child::after {align-self: flex-start;width: 50%;}#sk-container-id-3 div.sk-parallel-item:only-child::after {width: 0;}#sk-container-id-3 div.sk-dashed-wrapped {border: 1px dashed gray;margin: 0 0.4em 0.5em 0.4em;box-sizing: border-box;padding-bottom: 0.4em;background-color: white;}#sk-container-id-3 div.sk-label label {font-family: monospace;font-weight: bold;display: inline-block;line-height: 1.2em;}#sk-container-id-3 div.sk-label-container {text-align: center;}#sk-container-id-3 div.sk-container {/* jupyter's `normalize.less` sets `[hidden] { display: none; }` but bootstrap.min.css set `[hidden] { display: none !important; }` so we also need the `!important` here to be able to override the default hidden behavior on the sphinx rendered scikit-learn.org. See: https://github.com/scikit-learn/scikit-learn/issues/21755 */display: inline-block !important;position: relative;}#sk-container-id-3 div.sk-text-repr-fallback {display: none;}</style><div id=\"sk-container-id-3\" class=\"sk-top-container\"><div class=\"sk-text-repr-fallback\"><pre>Pipeline(steps=[(&#x27;ct&#x27;,\n",
       "                 ColumnTransformer(transformers=[(&#x27;num_preprocessing&#x27;,\n",
       "                                                  Pipeline(steps=[(&#x27;num_imp&#x27;,\n",
       "                                                                   SimpleImputer()),\n",
       "                                                                  (&#x27;num_sc&#x27;,\n",
       "                                                                   MinMaxScaler())]),\n",
       "                                                  [&#x27;Intelligence&#x27;, &#x27;Strength&#x27;,\n",
       "                                                   &#x27;Speed&#x27;, &#x27;Durability&#x27;,\n",
       "                                                   &#x27;Power&#x27;, &#x27;Combat&#x27;, &#x27;Height&#x27;,\n",
       "                                                   &#x27;Weight&#x27;, &#x27;Total Power&#x27;]),\n",
       "                                                 (&#x27;cat_preprocessing&#x27;,\n",
       "                                                  Pipeline(steps=[(&#x27;cat_imp&#x27;,\n",
       "                                                                   SimpleImputer(strategy=&#x27;most_frequent&#x27;)),\n",
       "                                                                  (&#x27;cat_enc&#x27;,\n",
       "                                                                   OneHotEncoder(handle_unknown=&#x27;ignore&#x27;,\n",
       "                                                                                 sparse_output=False))]),\n",
       "                                                  [&#x27;Alter Egos&#x27;,\n",
       "                                                   &#x27;Publisher_simple&#x27;, &#x27;Gender&#x27;,\n",
       "                                                   &#x27;Hair color_simple&#x27;,\n",
       "                                                   &#x27;Eye color_simple&#x27;,\n",
       "                                                   &#x27;Race_simple&#x27;])])),\n",
       "                (&#x27;classifier&#x27;,\n",
       "                 SVC(class_weight=&#x27;balanced&#x27;, gamma=0.5, max_iter=1000000))])</pre><b>In a Jupyter environment, please rerun this cell to show the HTML representation or trust the notebook. <br />On GitHub, the HTML representation is unable to render, please try loading this page with nbviewer.org.</b></div><div class=\"sk-container\" hidden><div class=\"sk-item sk-dashed-wrapped\"><div class=\"sk-label-container\"><div class=\"sk-label sk-toggleable\"><input class=\"sk-toggleable__control sk-hidden--visually\" id=\"sk-estimator-id-19\" type=\"checkbox\" ><label for=\"sk-estimator-id-19\" class=\"sk-toggleable__label sk-toggleable__label-arrow\">Pipeline</label><div class=\"sk-toggleable__content\"><pre>Pipeline(steps=[(&#x27;ct&#x27;,\n",
       "                 ColumnTransformer(transformers=[(&#x27;num_preprocessing&#x27;,\n",
       "                                                  Pipeline(steps=[(&#x27;num_imp&#x27;,\n",
       "                                                                   SimpleImputer()),\n",
       "                                                                  (&#x27;num_sc&#x27;,\n",
       "                                                                   MinMaxScaler())]),\n",
       "                                                  [&#x27;Intelligence&#x27;, &#x27;Strength&#x27;,\n",
       "                                                   &#x27;Speed&#x27;, &#x27;Durability&#x27;,\n",
       "                                                   &#x27;Power&#x27;, &#x27;Combat&#x27;, &#x27;Height&#x27;,\n",
       "                                                   &#x27;Weight&#x27;, &#x27;Total Power&#x27;]),\n",
       "                                                 (&#x27;cat_preprocessing&#x27;,\n",
       "                                                  Pipeline(steps=[(&#x27;cat_imp&#x27;,\n",
       "                                                                   SimpleImputer(strategy=&#x27;most_frequent&#x27;)),\n",
       "                                                                  (&#x27;cat_enc&#x27;,\n",
       "                                                                   OneHotEncoder(handle_unknown=&#x27;ignore&#x27;,\n",
       "                                                                                 sparse_output=False))]),\n",
       "                                                  [&#x27;Alter Egos&#x27;,\n",
       "                                                   &#x27;Publisher_simple&#x27;, &#x27;Gender&#x27;,\n",
       "                                                   &#x27;Hair color_simple&#x27;,\n",
       "                                                   &#x27;Eye color_simple&#x27;,\n",
       "                                                   &#x27;Race_simple&#x27;])])),\n",
       "                (&#x27;classifier&#x27;,\n",
       "                 SVC(class_weight=&#x27;balanced&#x27;, gamma=0.5, max_iter=1000000))])</pre></div></div></div><div class=\"sk-serial\"><div class=\"sk-item sk-dashed-wrapped\"><div class=\"sk-label-container\"><div class=\"sk-label sk-toggleable\"><input class=\"sk-toggleable__control sk-hidden--visually\" id=\"sk-estimator-id-20\" type=\"checkbox\" ><label for=\"sk-estimator-id-20\" class=\"sk-toggleable__label sk-toggleable__label-arrow\">ct: ColumnTransformer</label><div class=\"sk-toggleable__content\"><pre>ColumnTransformer(transformers=[(&#x27;num_preprocessing&#x27;,\n",
       "                                 Pipeline(steps=[(&#x27;num_imp&#x27;, SimpleImputer()),\n",
       "                                                 (&#x27;num_sc&#x27;, MinMaxScaler())]),\n",
       "                                 [&#x27;Intelligence&#x27;, &#x27;Strength&#x27;, &#x27;Speed&#x27;,\n",
       "                                  &#x27;Durability&#x27;, &#x27;Power&#x27;, &#x27;Combat&#x27;, &#x27;Height&#x27;,\n",
       "                                  &#x27;Weight&#x27;, &#x27;Total Power&#x27;]),\n",
       "                                (&#x27;cat_preprocessing&#x27;,\n",
       "                                 Pipeline(steps=[(&#x27;cat_imp&#x27;,\n",
       "                                                  SimpleImputer(strategy=&#x27;most_frequent&#x27;)),\n",
       "                                                 (&#x27;cat_enc&#x27;,\n",
       "                                                  OneHotEncoder(handle_unknown=&#x27;ignore&#x27;,\n",
       "                                                                sparse_output=False))]),\n",
       "                                 [&#x27;Alter Egos&#x27;, &#x27;Publisher_simple&#x27;, &#x27;Gender&#x27;,\n",
       "                                  &#x27;Hair color_simple&#x27;, &#x27;Eye color_simple&#x27;,\n",
       "                                  &#x27;Race_simple&#x27;])])</pre></div></div></div><div class=\"sk-parallel\"><div class=\"sk-parallel-item\"><div class=\"sk-item\"><div class=\"sk-label-container\"><div class=\"sk-label sk-toggleable\"><input class=\"sk-toggleable__control sk-hidden--visually\" id=\"sk-estimator-id-21\" type=\"checkbox\" ><label for=\"sk-estimator-id-21\" class=\"sk-toggleable__label sk-toggleable__label-arrow\">num_preprocessing</label><div class=\"sk-toggleable__content\"><pre>[&#x27;Intelligence&#x27;, &#x27;Strength&#x27;, &#x27;Speed&#x27;, &#x27;Durability&#x27;, &#x27;Power&#x27;, &#x27;Combat&#x27;, &#x27;Height&#x27;, &#x27;Weight&#x27;, &#x27;Total Power&#x27;]</pre></div></div></div><div class=\"sk-serial\"><div class=\"sk-item\"><div class=\"sk-serial\"><div class=\"sk-item\"><div class=\"sk-estimator sk-toggleable\"><input class=\"sk-toggleable__control sk-hidden--visually\" id=\"sk-estimator-id-22\" type=\"checkbox\" ><label for=\"sk-estimator-id-22\" class=\"sk-toggleable__label sk-toggleable__label-arrow\">SimpleImputer</label><div class=\"sk-toggleable__content\"><pre>SimpleImputer()</pre></div></div></div><div class=\"sk-item\"><div class=\"sk-estimator sk-toggleable\"><input class=\"sk-toggleable__control sk-hidden--visually\" id=\"sk-estimator-id-23\" type=\"checkbox\" ><label for=\"sk-estimator-id-23\" class=\"sk-toggleable__label sk-toggleable__label-arrow\">MinMaxScaler</label><div class=\"sk-toggleable__content\"><pre>MinMaxScaler()</pre></div></div></div></div></div></div></div></div><div class=\"sk-parallel-item\"><div class=\"sk-item\"><div class=\"sk-label-container\"><div class=\"sk-label sk-toggleable\"><input class=\"sk-toggleable__control sk-hidden--visually\" id=\"sk-estimator-id-24\" type=\"checkbox\" ><label for=\"sk-estimator-id-24\" class=\"sk-toggleable__label sk-toggleable__label-arrow\">cat_preprocessing</label><div class=\"sk-toggleable__content\"><pre>[&#x27;Alter Egos&#x27;, &#x27;Publisher_simple&#x27;, &#x27;Gender&#x27;, &#x27;Hair color_simple&#x27;, &#x27;Eye color_simple&#x27;, &#x27;Race_simple&#x27;]</pre></div></div></div><div class=\"sk-serial\"><div class=\"sk-item\"><div class=\"sk-serial\"><div class=\"sk-item\"><div class=\"sk-estimator sk-toggleable\"><input class=\"sk-toggleable__control sk-hidden--visually\" id=\"sk-estimator-id-25\" type=\"checkbox\" ><label for=\"sk-estimator-id-25\" class=\"sk-toggleable__label sk-toggleable__label-arrow\">SimpleImputer</label><div class=\"sk-toggleable__content\"><pre>SimpleImputer(strategy=&#x27;most_frequent&#x27;)</pre></div></div></div><div class=\"sk-item\"><div class=\"sk-estimator sk-toggleable\"><input class=\"sk-toggleable__control sk-hidden--visually\" id=\"sk-estimator-id-26\" type=\"checkbox\" ><label for=\"sk-estimator-id-26\" class=\"sk-toggleable__label sk-toggleable__label-arrow\">OneHotEncoder</label><div class=\"sk-toggleable__content\"><pre>OneHotEncoder(handle_unknown=&#x27;ignore&#x27;, sparse_output=False)</pre></div></div></div></div></div></div></div></div></div></div><div class=\"sk-item\"><div class=\"sk-estimator sk-toggleable\"><input class=\"sk-toggleable__control sk-hidden--visually\" id=\"sk-estimator-id-27\" type=\"checkbox\" ><label for=\"sk-estimator-id-27\" class=\"sk-toggleable__label sk-toggleable__label-arrow\">SVC</label><div class=\"sk-toggleable__content\"><pre>SVC(class_weight=&#x27;balanced&#x27;, gamma=0.5, max_iter=1000000)</pre></div></div></div></div></div></div></div>"
      ],
      "text/plain": [
       "Pipeline(steps=[('ct',\n",
       "                 ColumnTransformer(transformers=[('num_preprocessing',\n",
       "                                                  Pipeline(steps=[('num_imp',\n",
       "                                                                   SimpleImputer()),\n",
       "                                                                  ('num_sc',\n",
       "                                                                   MinMaxScaler())]),\n",
       "                                                  ['Intelligence', 'Strength',\n",
       "                                                   'Speed', 'Durability',\n",
       "                                                   'Power', 'Combat', 'Height',\n",
       "                                                   'Weight', 'Total Power']),\n",
       "                                                 ('cat_preprocessing',\n",
       "                                                  Pipeline(steps=[('cat_imp',\n",
       "                                                                   SimpleImputer(strategy='most_frequent')),\n",
       "                                                                  ('cat_enc',\n",
       "                                                                   OneHotEncoder(handle_unknown='ignore',\n",
       "                                                                                 sparse_output=False))]),\n",
       "                                                  ['Alter Egos',\n",
       "                                                   'Publisher_simple', 'Gender',\n",
       "                                                   'Hair color_simple',\n",
       "                                                   'Eye color_simple',\n",
       "                                                   'Race_simple'])])),\n",
       "                ('classifier',\n",
       "                 SVC(class_weight='balanced', gamma=0.5, max_iter=1000000))])"
      ]
     },
     "execution_count": 109,
     "metadata": {},
     "output_type": "execute_result"
    }
   ],
   "source": [
    "# YOUR CODE HERE\n",
    "clf_w.fit(X_train,y_train)"
   ]
  },
  {
   "cell_type": "code",
   "execution_count": null,
   "id": "6c83ced5",
   "metadata": {
    "deletable": false,
    "editable": false,
    "nbgrader": {
     "cell_type": "code",
     "checksum": "d3f3736e2089f8687240067b6a6db038",
     "grade": true,
     "grade_id": "cell-fefe7d178dc18016",
     "locked": true,
     "points": 1,
     "schema_version": 3,
     "solution": false,
     "task": false
    },
    "tags": []
   },
   "outputs": [],
   "source": []
  },
  {
   "cell_type": "markdown",
   "id": "be0f0eaa-c450-468a-bac9-b4378f4717c7",
   "metadata": {
    "deletable": false,
    "editable": false,
    "nbgrader": {
     "cell_type": "markdown",
     "checksum": "e64c70013fee915b7c7623bf303eedde",
     "grade": false,
     "grade_id": "cell-fe68c140770d1840",
     "locked": true,
     "schema_version": 3,
     "solution": false,
     "task": false
    },
    "tags": []
   },
   "source": [
    "### Task 6.3* (Bonus)\n",
    "Compute the `accuracy_score()` as well as the `balanced_accuracy_score()` metric with the new pipeline `clf_w` on the original training set and the original test set and store the result to the variables `acc_train_w` and `acc_test_w` as well as `bacc_train_w` and `bacc_test_w`."
   ]
  },
  {
   "cell_type": "code",
   "execution_count": 110,
   "id": "7176ec21-3caf-4d11-bbff-b554cf9c9b44",
   "metadata": {
    "deletable": false,
    "nbgrader": {
     "cell_type": "code",
     "checksum": "04c69755dfb4b7e13395dd7d101c69be",
     "grade": false,
     "grade_id": "cell-973ddda838e5075d",
     "locked": false,
     "schema_version": 3,
     "solution": true,
     "task": false
    },
    "tags": []
   },
   "outputs": [
    {
     "name": "stdout",
     "output_type": "stream",
     "text": [
      "\n",
      "Balanced Accuracy on the train set (class weights): 0.9008452853816502 | Accuracy on the train set (class weights): 0.8882113821138211\n",
      "Balanced Accuracy on the test set (class weights): 0.5510259472369992 | Accuracy on the test (class weights): 0.6179245283018868\n"
     ]
    }
   ],
   "source": [
    "# YOUR CODE HERE\n",
    "bacc_train_w = balanced_accuracy_score(y_train, clf_w.predict(X_train))\n",
    "bacc_test_w = balanced_accuracy_score(y_test, clf_w.predict(X_test))\n",
    "acc_train_w = clf_w.score(X_train, y_train)\n",
    "acc_test_w = clf_w.score(X_test, y_test)\n",
    "\n",
    "print(f\"\\nBalanced Accuracy on the train set (class weights): {bacc_train_w}\", f\"| Accuracy on the train set (class weights): {acc_train_w}\")\n",
    "print(f\"Balanced Accuracy on the test set (class weights): {bacc_test_w}\", f\"| Accuracy on the test (class weights): {acc_test_w}\")"
   ]
  },
  {
   "cell_type": "code",
   "execution_count": null,
   "id": "c71bbc21-b577-409e-92a7-6b6b21be562e",
   "metadata": {
    "deletable": false,
    "editable": false,
    "nbgrader": {
     "cell_type": "code",
     "checksum": "042e2bf886fff1cd3d29a9ad99fe5863",
     "grade": true,
     "grade_id": "cell-13b7f42348637c6f",
     "locked": true,
     "points": 1,
     "schema_version": 3,
     "solution": false,
     "task": false
    },
    "tags": []
   },
   "outputs": [],
   "source": []
  }
 ],
 "metadata": {
  "kernelspec": {
   "display_name": "Python 3 (ipykernel)",
   "language": "python",
   "name": "python3"
  },
  "language_info": {
   "codemirror_mode": {
    "name": "ipython",
    "version": 3
   },
   "file_extension": ".py",
   "mimetype": "text/x-python",
   "name": "python",
   "nbconvert_exporter": "python",
   "pygments_lexer": "ipython3",
   "version": "3.10.11"
  }
 },
 "nbformat": 4,
 "nbformat_minor": 5
}
