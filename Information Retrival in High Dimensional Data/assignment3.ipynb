{
 "cells": [
  {
   "cell_type": "markdown",
   "metadata": {},
   "source": [
    "# Assignment 3\n",
    "write your names here"
   ]
  },
  {
   "cell_type": "code",
   "execution_count": 7,
   "metadata": {},
   "outputs": [],
   "source": [
    "import numpy as np"
   ]
  },
  {
   "cell_type": "code",
   "execution_count": 8,
   "metadata": {},
   "outputs": [],
   "source": [
    "def linear_pca(X, k):\n",
    "    mu=np.mean(X,axis=1)\n",
    "    X_c=X-np.expand_dims(mu,axis=1)\n",
    "    [U,Sigma,VT]=np.linalg.svd(X_c,full_matrices=False)\n",
    "    S=np.expand_dims(Sigma[:k],axis=1)*VT[:k,:]\n",
    "    return S"
   ]
  },
  {
   "cell_type": "code",
   "execution_count": 9,
   "metadata": {},
   "outputs": [],
   "source": [
    "# Insert Code for Subtask 1.1 here"
   ]
  },
  {
   "cell_type": "code",
   "execution_count": 10,
   "metadata": {},
   "outputs": [],
   "source": [
    "def gram_pca(K,k):\n",
    "    # Insert Code for Subtask 1.2 here\n",
    "    return S"
   ]
  },
  {
   "cell_type": "code",
   "execution_count": 11,
   "metadata": {},
   "outputs": [],
   "source": [
    "# Insert Code for Subtask 1.3 here"
   ]
  },
  {
   "cell_type": "code",
   "execution_count": 1,
   "metadata": {},
   "outputs": [],
   "source": [
    "def compute_gaussian_gram_matrix(X, sigma):\n",
    "    #Insert Code for Subtask 1.4 here\n",
    "    return K\n",
    "\n",
    "def gaussian_kernel_pca(X, k, sigma):\n",
    "    K=compute_gaussian_gram_matrix(X,sigma)\n",
    "    S=gram_pca(K,k)\n",
    "    return S"
   ]
  },
  {
   "cell_type": "code",
   "execution_count": 14,
   "metadata": {},
   "outputs": [],
   "source": [
    "#Insert Code for Subtask 1.5 here"
   ]
  }
 ],
 "metadata": {
  "kernelspec": {
   "display_name": "Python 3",
   "language": "python",
   "name": "python3"
  },
  "language_info": {
   "codemirror_mode": {
    "name": "ipython",
    "version": 3
   },
   "file_extension": ".py",
   "mimetype": "text/x-python",
   "name": "python",
   "nbconvert_exporter": "python",
   "pygments_lexer": "ipython3",
   "version": "3.6.4"
  }
 },
 "nbformat": 4,
 "nbformat_minor": 2
}
